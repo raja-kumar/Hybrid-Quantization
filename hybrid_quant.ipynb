{
  "nbformat": 4,
  "nbformat_minor": 0,
  "metadata": {
    "colab": {
      "name": "hybrid_quant",
      "provenance": [],
      "mount_file_id": "10IHIFMQdpWmQ8WXUcsDAsPVsy0FWuSYd",
      "authorship_tag": "ABX9TyNq3RMitp2dwO3iF12M1n/a",
      "include_colab_link": true
    },
    "kernelspec": {
      "name": "python3",
      "display_name": "Python 3"
    },
    "accelerator": "GPU",
    "widgets": {
      "application/vnd.jupyter.widget-state+json": {
        "19c096bb627a42adbc0e0e8520ee1c65": {
          "model_module": "@jupyter-widgets/controls",
          "model_name": "HBoxModel",
          "state": {
            "_view_name": "HBoxView",
            "_dom_classes": [],
            "_model_name": "HBoxModel",
            "_view_module": "@jupyter-widgets/controls",
            "_model_module_version": "1.5.0",
            "_view_count": null,
            "_view_module_version": "1.5.0",
            "box_style": "",
            "layout": "IPY_MODEL_7e294352b1254e01a7fbb7a28a1412da",
            "_model_module": "@jupyter-widgets/controls",
            "children": [
              "IPY_MODEL_b5012b15dc774970bec22b693465fe0d",
              "IPY_MODEL_25962f30715d4e3ab0af8885a7c1b86a"
            ]
          }
        },
        "7e294352b1254e01a7fbb7a28a1412da": {
          "model_module": "@jupyter-widgets/base",
          "model_name": "LayoutModel",
          "state": {
            "_view_name": "LayoutView",
            "grid_template_rows": null,
            "right": null,
            "justify_content": null,
            "_view_module": "@jupyter-widgets/base",
            "overflow": null,
            "_model_module_version": "1.2.0",
            "_view_count": null,
            "flex_flow": null,
            "width": null,
            "min_width": null,
            "border": null,
            "align_items": null,
            "bottom": null,
            "_model_module": "@jupyter-widgets/base",
            "top": null,
            "grid_column": null,
            "overflow_y": null,
            "overflow_x": null,
            "grid_auto_flow": null,
            "grid_area": null,
            "grid_template_columns": null,
            "flex": null,
            "_model_name": "LayoutModel",
            "justify_items": null,
            "grid_row": null,
            "max_height": null,
            "align_content": null,
            "visibility": null,
            "align_self": null,
            "height": null,
            "min_height": null,
            "padding": null,
            "grid_auto_rows": null,
            "grid_gap": null,
            "max_width": null,
            "order": null,
            "_view_module_version": "1.2.0",
            "grid_template_areas": null,
            "object_position": null,
            "object_fit": null,
            "grid_auto_columns": null,
            "margin": null,
            "display": null,
            "left": null
          }
        },
        "b5012b15dc774970bec22b693465fe0d": {
          "model_module": "@jupyter-widgets/controls",
          "model_name": "FloatProgressModel",
          "state": {
            "_view_name": "ProgressView",
            "style": "IPY_MODEL_79137188d14645e6b7045a4f01360170",
            "_dom_classes": [],
            "description": "100%",
            "_model_name": "FloatProgressModel",
            "bar_style": "success",
            "max": 46827520,
            "_view_module": "@jupyter-widgets/controls",
            "_model_module_version": "1.5.0",
            "value": 46827520,
            "_view_count": null,
            "_view_module_version": "1.5.0",
            "orientation": "horizontal",
            "min": 0,
            "description_tooltip": null,
            "_model_module": "@jupyter-widgets/controls",
            "layout": "IPY_MODEL_1b918f2a31704ce28074d651f177bbcb"
          }
        },
        "25962f30715d4e3ab0af8885a7c1b86a": {
          "model_module": "@jupyter-widgets/controls",
          "model_name": "HTMLModel",
          "state": {
            "_view_name": "HTMLView",
            "style": "IPY_MODEL_df562252a0b448bfa0c6847b20e14b9d",
            "_dom_classes": [],
            "description": "",
            "_model_name": "HTMLModel",
            "placeholder": "​",
            "_view_module": "@jupyter-widgets/controls",
            "_model_module_version": "1.5.0",
            "value": " 44.7M/44.7M [00:49&lt;00:00, 951kB/s]",
            "_view_count": null,
            "_view_module_version": "1.5.0",
            "description_tooltip": null,
            "_model_module": "@jupyter-widgets/controls",
            "layout": "IPY_MODEL_9a7b00d3a675481096c8a4aa30440a4c"
          }
        },
        "79137188d14645e6b7045a4f01360170": {
          "model_module": "@jupyter-widgets/controls",
          "model_name": "ProgressStyleModel",
          "state": {
            "_view_name": "StyleView",
            "_model_name": "ProgressStyleModel",
            "description_width": "initial",
            "_view_module": "@jupyter-widgets/base",
            "_model_module_version": "1.5.0",
            "_view_count": null,
            "_view_module_version": "1.2.0",
            "bar_color": null,
            "_model_module": "@jupyter-widgets/controls"
          }
        },
        "1b918f2a31704ce28074d651f177bbcb": {
          "model_module": "@jupyter-widgets/base",
          "model_name": "LayoutModel",
          "state": {
            "_view_name": "LayoutView",
            "grid_template_rows": null,
            "right": null,
            "justify_content": null,
            "_view_module": "@jupyter-widgets/base",
            "overflow": null,
            "_model_module_version": "1.2.0",
            "_view_count": null,
            "flex_flow": null,
            "width": null,
            "min_width": null,
            "border": null,
            "align_items": null,
            "bottom": null,
            "_model_module": "@jupyter-widgets/base",
            "top": null,
            "grid_column": null,
            "overflow_y": null,
            "overflow_x": null,
            "grid_auto_flow": null,
            "grid_area": null,
            "grid_template_columns": null,
            "flex": null,
            "_model_name": "LayoutModel",
            "justify_items": null,
            "grid_row": null,
            "max_height": null,
            "align_content": null,
            "visibility": null,
            "align_self": null,
            "height": null,
            "min_height": null,
            "padding": null,
            "grid_auto_rows": null,
            "grid_gap": null,
            "max_width": null,
            "order": null,
            "_view_module_version": "1.2.0",
            "grid_template_areas": null,
            "object_position": null,
            "object_fit": null,
            "grid_auto_columns": null,
            "margin": null,
            "display": null,
            "left": null
          }
        },
        "df562252a0b448bfa0c6847b20e14b9d": {
          "model_module": "@jupyter-widgets/controls",
          "model_name": "DescriptionStyleModel",
          "state": {
            "_view_name": "StyleView",
            "_model_name": "DescriptionStyleModel",
            "description_width": "",
            "_view_module": "@jupyter-widgets/base",
            "_model_module_version": "1.5.0",
            "_view_count": null,
            "_view_module_version": "1.2.0",
            "_model_module": "@jupyter-widgets/controls"
          }
        },
        "9a7b00d3a675481096c8a4aa30440a4c": {
          "model_module": "@jupyter-widgets/base",
          "model_name": "LayoutModel",
          "state": {
            "_view_name": "LayoutView",
            "grid_template_rows": null,
            "right": null,
            "justify_content": null,
            "_view_module": "@jupyter-widgets/base",
            "overflow": null,
            "_model_module_version": "1.2.0",
            "_view_count": null,
            "flex_flow": null,
            "width": null,
            "min_width": null,
            "border": null,
            "align_items": null,
            "bottom": null,
            "_model_module": "@jupyter-widgets/base",
            "top": null,
            "grid_column": null,
            "overflow_y": null,
            "overflow_x": null,
            "grid_auto_flow": null,
            "grid_area": null,
            "grid_template_columns": null,
            "flex": null,
            "_model_name": "LayoutModel",
            "justify_items": null,
            "grid_row": null,
            "max_height": null,
            "align_content": null,
            "visibility": null,
            "align_self": null,
            "height": null,
            "min_height": null,
            "padding": null,
            "grid_auto_rows": null,
            "grid_gap": null,
            "max_width": null,
            "order": null,
            "_view_module_version": "1.2.0",
            "grid_template_areas": null,
            "object_position": null,
            "object_fit": null,
            "grid_auto_columns": null,
            "margin": null,
            "display": null,
            "left": null
          }
        }
      }
    }
  },
  "cells": [
    {
      "cell_type": "markdown",
      "metadata": {
        "id": "view-in-github",
        "colab_type": "text"
      },
      "source": [
        "<a href=\"https://colab.research.google.com/github/raja-kumar/Hybrid-Quantization/blob/master/hybrid_quant.ipynb\" target=\"_parent\"><img src=\"https://colab.research.google.com/assets/colab-badge.svg\" alt=\"Open In Colab\"/></a>"
      ]
    },
    {
      "cell_type": "code",
      "metadata": {
        "id": "-UJOVxOSS6oL",
        "colab_type": "code",
        "colab": {
          "base_uri": "https://localhost:8080/",
          "height": 85,
          "referenced_widgets": [
            "19c096bb627a42adbc0e0e8520ee1c65",
            "7e294352b1254e01a7fbb7a28a1412da",
            "b5012b15dc774970bec22b693465fe0d",
            "25962f30715d4e3ab0af8885a7c1b86a",
            "79137188d14645e6b7045a4f01360170",
            "1b918f2a31704ce28074d651f177bbcb",
            "df562252a0b448bfa0c6847b20e14b9d",
            "9a7b00d3a675481096c8a4aa30440a4c"
          ]
        },
        "outputId": "7a62ac35-8f7a-4d41-b95d-854b733b3931"
      },
      "source": [
        "import torch\n",
        "import torchvision.models as models\n",
        "from __future__ import print_function\n",
        "import argparse\n",
        "import torch\n",
        "import torch.nn as nn\n",
        "import torch.nn.functional as F\n",
        "import torch.optim as optim\n",
        "from torchvision import datasets, transforms\n",
        "\n",
        "model = models.resnet18(pretrained=True, progress=True)"
      ],
      "execution_count": 2,
      "outputs": [
        {
          "output_type": "stream",
          "text": [
            "Downloading: \"https://download.pytorch.org/models/resnet18-5c106cde.pth\" to /root/.cache/torch/hub/checkpoints/resnet18-5c106cde.pth\n"
          ],
          "name": "stderr"
        },
        {
          "output_type": "display_data",
          "data": {
            "application/vnd.jupyter.widget-view+json": {
              "model_id": "19c096bb627a42adbc0e0e8520ee1c65",
              "version_minor": 0,
              "version_major": 2
            },
            "text/plain": [
              "HBox(children=(FloatProgress(value=0.0, max=46827520.0), HTML(value='')))"
            ]
          },
          "metadata": {
            "tags": []
          }
        },
        {
          "output_type": "stream",
          "text": [
            "\n"
          ],
          "name": "stdout"
        }
      ]
    },
    {
      "cell_type": "code",
      "metadata": {
        "id": "vdD96xSv5Psz",
        "colab_type": "code",
        "colab": {}
      },
      "source": [
        "import math\n",
        "import numpy as np\n",
        "from torch.autograd import Function, Variable\n",
        "import torch\n",
        "\n",
        "\n",
        "def clamp(input, min, max, inplace=False):\n",
        "    \"\"\"\n",
        "    Clamp tensor input to (min, max).\n",
        "    input: input tensor to be clamped\n",
        "    \"\"\"\n",
        "\n",
        "    if inplace:\n",
        "        input.clamp_(min, max)\n",
        "        return input\n",
        "    return torch.clamp(input, min, max)\n",
        "\n",
        "\n",
        "def linear_quantize(input, scale, zero_point, inplace=False):\n",
        "    \"\"\"\n",
        "    Quantize single-precision input tensor to integers with the given scaling factor and zeropoint.\n",
        "    input: single-precision input tensor to be quantized\n",
        "    scale: scaling factor for quantization\n",
        "    zero_pint: shift for quantization\n",
        "    \"\"\"\n",
        "\n",
        "    # reshape scale and zeropoint for convolutional weights and activation\n",
        "    if len(input.shape) == 4:\n",
        "        scale = scale.view(-1, 1, 1, 1)\n",
        "        zero_point = zero_point.view(-1, 1, 1, 1)\n",
        "    # reshape scale and zeropoint for linear weights\n",
        "    elif len(input.shape) == 2:\n",
        "        scale = scale.view(-1, 1)\n",
        "        zero_point = zero_point.view(-1, 1)\n",
        "    # mapping single-precision input to integer values with the given scale and zeropoint\n",
        "    if inplace:\n",
        "        input.mul_(scale).sub_(zero_point).round_()\n",
        "        return input\n",
        "    return torch.round(scale * input - zero_point)\n",
        "\n",
        "\n",
        "def linear_dequantize(input, scale, zero_point, inplace=False):\n",
        "    \"\"\"\n",
        "    Map integer input tensor to fixed point float point with given scaling factor and zeropoint.\n",
        "    input: integer input tensor to be mapped\n",
        "    scale: scaling factor for quantization\n",
        "    zero_pint: shift for quantization\n",
        "    \"\"\"\n",
        "\n",
        "    # reshape scale and zeropoint for convolutional weights and activation\n",
        "    if len(input.shape) == 4:\n",
        "        scale = scale.view(-1, 1, 1, 1)\n",
        "        zero_point = zero_point.view(-1, 1, 1, 1)\n",
        "    # reshape scale and zeropoint for linear weights\n",
        "    elif len(input.shape) == 2:\n",
        "        scale = scale.view(-1, 1)\n",
        "        zero_point = zero_point.view(-1, 1)\n",
        "    # mapping integer input to fixed point float point value with given scaling factor and zeropoint\n",
        "    if inplace:\n",
        "        input.add_(zero_point).div_(scale)\n",
        "        return input\n",
        "    return (input + zero_point) / scale\n",
        "\n",
        "\n",
        "def asymmetric_linear_quantization_params(num_bits,\n",
        "                                          saturation_min,\n",
        "                                          saturation_max,\n",
        "                                          integral_zero_point=True,\n",
        "                                          signed=True):\n",
        "    \"\"\"\n",
        "    Compute the scaling factor and zeropoint with the given quantization range.\n",
        "    saturation_min: lower bound for quantization range\n",
        "    saturation_max: upper bound for quantization range\n",
        "    \"\"\"\n",
        "    n = 2**num_bits - 1\n",
        "    scale = n / torch.clamp((saturation_max - saturation_min), min=1e-8)\n",
        "    zero_point = scale * saturation_min\n",
        "\n",
        "    if integral_zero_point:\n",
        "        if isinstance(zero_point, torch.Tensor):\n",
        "            zero_point = zero_point.round()\n",
        "        else:\n",
        "            zero_point = float(round(zero_point))\n",
        "    if signed:\n",
        "        zero_point += 2**(num_bits - 1)\n",
        "    return scale, zero_point\n",
        "\n",
        "\n",
        "class AsymmetricQuantFunction(Function):\n",
        "    \"\"\"\n",
        "    Class to quantize the given floating-point values with given range and bit-setting.\n",
        "    Currently only support inference, but not support back-propagation.\n",
        "    \"\"\"\n",
        "    @staticmethod\n",
        "    def forward(ctx, x, k, x_min=None, x_max=None):\n",
        "        \"\"\"\n",
        "        x: single-precision value to be quantized\n",
        "        k: bit-setting for x\n",
        "        x_min: lower bound for quantization range\n",
        "        x_max=None\n",
        "        \"\"\"\n",
        "        scale, zero_point = asymmetric_linear_quantization_params(\n",
        "            k, x_min, x_max)\n",
        "        new_quant_x = linear_quantize(x, scale, zero_point, inplace=False)\n",
        "        n = 2**(k - 1)\n",
        "        new_quant_x = torch.clamp(new_quant_x, -n, n - 1)\n",
        "        quant_x = linear_dequantize(new_quant_x,\n",
        "                                    scale,\n",
        "                                    zero_point,\n",
        "                                    inplace=False)\n",
        "        return torch.autograd.Variable(quant_x)\n",
        "\n",
        "    @staticmethod\n",
        "    def backward(ctx, grad_output):\n",
        "        raise NotImplementedError\n"
      ],
      "execution_count": 3,
      "outputs": []
    },
    {
      "cell_type": "code",
      "metadata": {
        "id": "ZsIRA92R97bK",
        "colab_type": "code",
        "colab": {}
      },
      "source": [
        "def kl_div(p,q):\n",
        "  return torch.sum(torch.sum((p * torch.log2(p/q)), dim=1))/p.shape[0]"
      ],
      "execution_count": 4,
      "outputs": []
    },
    {
      "cell_type": "code",
      "metadata": {
        "id": "GJadftm6rlr1",
        "colab_type": "code",
        "colab": {}
      },
      "source": [
        "def linear_quantize_pt(input, scale, zero_point, inplace=False):\n",
        "    \"\"\"\n",
        "    Quantize single-precision input tensor to integers with the given scaling factor and zeropoint.\n",
        "    input: single-precision input tensor to be quantized\n",
        "    scale: scaling factor for quantization\n",
        "    zero_pint: shift for quantization\n",
        "    \"\"\"\n",
        "\n",
        "    # reshape scale and zeropoint for convolutional weights and activation\n",
        "    ''' if len(input.shape) == 4:\n",
        "        scale = scale.view(-1, 1, 1, 1)\n",
        "        zero_point = zero_point.view(-1, 1, 1, 1)\n",
        "    # reshape scale and zeropoint for linear weights\n",
        "    elif len(input.shape) == 2:\n",
        "        scale = scale.view(-1, 1)\n",
        "        zero_point = zero_point.view(-1, 1) '''\n",
        "    # mapping single-precision input to integer values with the given scale and zeropoint\n",
        "    if inplace:\n",
        "        input.mul_(scale).sub_(zero_point).round_()\n",
        "        return input\n",
        "    return torch.round(scale * input - zero_point)"
      ],
      "execution_count": 5,
      "outputs": []
    },
    {
      "cell_type": "code",
      "metadata": {
        "id": "9H2TTSeWshm_",
        "colab_type": "code",
        "colab": {}
      },
      "source": [
        "def linear_dequantize_pt(input, scale, zero_point, inplace=False):\n",
        "    \"\"\"\n",
        "    Map integer input tensor to fixed point float point with given scaling factor and zeropoint.\n",
        "    input: integer input tensor to be mapped\n",
        "    scale: scaling factor for quantization\n",
        "    zero_pint: shift for quantization\n",
        "    \"\"\"\n",
        "\n",
        "    # reshape scale and zeropoint for convolutional weights and activation\n",
        "    '''if len(input.shape) == 4:\n",
        "        scale = scale.view(-1, 1, 1, 1)\n",
        "        zero_point = zero_point.view(-1, 1, 1, 1)\n",
        "    # reshape scale and zeropoint for linear weights\n",
        "    elif len(input.shape) == 2:\n",
        "        scale = scale.view(-1, 1)\n",
        "        zero_point = zero_point.view(-1, 1)'''\n",
        "    # mapping integer input to fixed point float point value with given scaling factor and zeropoint\n",
        "    if inplace:\n",
        "        input.add_(zero_point).div_(scale)\n",
        "        return input\n",
        "    return (input + zero_point) / scale"
      ],
      "execution_count": 6,
      "outputs": []
    },
    {
      "cell_type": "code",
      "metadata": {
        "id": "pYAUnRBC6vtq",
        "colab_type": "code",
        "colab": {}
      },
      "source": [
        "def linear_quantize_pc(input, scale, zero_point, inplace=False):\n",
        "    \"\"\"\n",
        "    Quantize single-precision input tensor to integers with the given scaling factor and zeropoint.\n",
        "    input: single-precision input tensor to be quantized\n",
        "    scale: scaling factor for quantization\n",
        "    zero_pint: shift for quantization\n",
        "    \"\"\"\n",
        "\n",
        "    # reshape scale and zeropoint for convolutional weights and activation\n",
        "    if len(input.shape) == 4:\n",
        "        scale = scale.view(-1, 1, 1, 1)\n",
        "        zero_point = zero_point.view(-1, 1, 1, 1)\n",
        "    # reshape scale and zeropoint for linear weights\n",
        "    elif len(input.shape) == 2:\n",
        "        scale = scale.view(-1, 1)\n",
        "        zero_point = zero_point.view(-1, 1)\n",
        "    # mapping single-precision input to integer values with the given scale and zeropoint\n",
        "    if inplace:\n",
        "        input.mul_(scale).sub_(zero_point).round_()\n",
        "        return input\n",
        "    return torch.round(scale * input - zero_point)"
      ],
      "execution_count": 7,
      "outputs": []
    },
    {
      "cell_type": "code",
      "metadata": {
        "id": "ui8p5MfR6y2I",
        "colab_type": "code",
        "colab": {}
      },
      "source": [
        "def linear_dequantize_pc(input, scale, zero_point, inplace=False):\n",
        "    \"\"\"\n",
        "    Map integer input tensor to fixed point float point with given scaling factor and zeropoint.\n",
        "    input: integer input tensor to be mapped\n",
        "    scale: scaling factor for quantization\n",
        "    zero_pint: shift for quantization\n",
        "    \"\"\"\n",
        "\n",
        "    # reshape scale and zeropoint for convolutional weights and activation\n",
        "    if len(input.shape) == 4:\n",
        "        scale = scale.view(-1, 1, 1, 1)\n",
        "        zero_point = zero_point.view(-1, 1, 1, 1)\n",
        "    # reshape scale and zeropoint for linear weights\n",
        "    elif len(input.shape) == 2:\n",
        "        scale = scale.view(-1, 1)\n",
        "        zero_point = zero_point.view(-1, 1)\n",
        "    # mapping integer input to fixed point float point value with given scaling factor and zeropoint\n",
        "    if inplace:\n",
        "        input.add_(zero_point).div_(scale)\n",
        "        return input\n",
        "    return (input + zero_point) / scale"
      ],
      "execution_count": 8,
      "outputs": []
    },
    {
      "cell_type": "code",
      "metadata": {
        "id": "NoEFHSiMaHzi",
        "colab_type": "code",
        "colab": {}
      },
      "source": [
        "class AsymmetricQuantFunctionPT(Function):\n",
        "    \"\"\"\n",
        "    Class to quantize the given floating-point values with given range and bit-setting.\n",
        "    Currently only support inference, but not support back-propagation.\n",
        "    \"\"\"\n",
        "    @staticmethod\n",
        "    def forward(ctx, x, k, x_min=None, x_max=None):\n",
        "        \"\"\"\n",
        "        x: single-precision value to be quantized\n",
        "        k: bit-setting for x\n",
        "        x_min: lower bound for quantization range\n",
        "        x_max=None\n",
        "        \"\"\"\n",
        "\n",
        "        scale, zero_point = asymmetric_linear_quantization_params(\n",
        "            k, x_min, x_max)\n",
        "        new_quant_x = linear_quantize_pt(x, scale, zero_point, inplace=False)\n",
        "        n = 2**(k - 1)\n",
        "        new_quant_x = torch.clamp(new_quant_x, -n, n - 1)\n",
        "        quant_x = linear_dequantize_pt(new_quant_x,\n",
        "                                    scale,\n",
        "                                    zero_point,\n",
        "                                    inplace=False)\n",
        "        return torch.autograd.Variable(quant_x)\n",
        "\n",
        "    @staticmethod\n",
        "    def backward(ctx, grad_output):\n",
        "        raise NotImplementedError\n"
      ],
      "execution_count": 9,
      "outputs": []
    },
    {
      "cell_type": "code",
      "metadata": {
        "id": "XXvarIFc9xQC",
        "colab_type": "code",
        "colab": {}
      },
      "source": [
        "import urllib\n",
        "url, filename = (\"https://github.com/pytorch/hub/raw/master/dog.jpg\", \"dog.jpg\")\n",
        "try: urllib.URLopener().retrieve(url, filename)\n",
        "except: urllib.request.urlretrieve(url, filename)\n",
        "\n",
        "# sample execution (requires torchvision)\n",
        "from PIL import Image\n",
        "from torchvision import transforms\n",
        "input_image = Image.open('dog.jpg')\n",
        "preprocess = transforms.Compose([\n",
        "    transforms.Resize(256),\n",
        "    transforms.CenterCrop(224),\n",
        "    transforms.ToTensor(),\n",
        "    transforms.Normalize(mean=[0.485, 0.456, 0.406], std=[0.229, 0.224, 0.225]),\n",
        "])\n",
        "\n",
        "input_tensor = preprocess(input_image)\n",
        "\n",
        "input_batch = input_tensor.unsqueeze(0)"
      ],
      "execution_count": 10,
      "outputs": []
    },
    {
      "cell_type": "code",
      "metadata": {
        "id": "XZbhNWAKRqrM",
        "colab_type": "code",
        "colab": {
          "base_uri": "https://localhost:8080/",
          "height": 35
        },
        "outputId": "014ba3ac-d882-4bf5-9ce2-8fce7523fa30"
      },
      "source": [
        "input_batch.shape"
      ],
      "execution_count": null,
      "outputs": [
        {
          "output_type": "execute_result",
          "data": {
            "text/plain": [
              "torch.Size([1, 3, 224, 224])"
            ]
          },
          "metadata": {
            "tags": []
          },
          "execution_count": 11
        }
      ]
    },
    {
      "cell_type": "code",
      "metadata": {
        "id": "elx6Ox9cSV1Q",
        "colab_type": "code",
        "colab": {}
      },
      "source": [
        "from torch.utils.data import Dataset, DataLoader\n",
        "from torchvision import datasets, transforms\n",
        "import torch\n",
        "\n",
        "normalize = transforms.Normalize(mean=[0.485, 0.456, 0.406],\n",
        "                                         std=[0.229, 0.224, 0.225])\n",
        "test_dataset = datasets.ImageFolder(\n",
        "    'drive/My Drive/ImageNet_samples_To_Raja',\n",
        "    transforms.Compose([\n",
        "        transforms.Resize(int(224 / 0.875)),\n",
        "        transforms.CenterCrop(224),\n",
        "        transforms.ToTensor(),\n",
        "        normalize,\n",
        "    ]))\n",
        "test_loader = DataLoader(test_dataset,\n",
        "                          batch_size=100,\n",
        "                          shuffle=False,\n",
        "                          num_workers=32)"
      ],
      "execution_count": 11,
      "outputs": []
    },
    {
      "cell_type": "code",
      "metadata": {
        "id": "s3e28Bv0Scrb",
        "colab_type": "code",
        "colab": {}
      },
      "source": [
        ""
      ],
      "execution_count": null,
      "outputs": []
    },
    {
      "cell_type": "code",
      "metadata": {
        "id": "jDpB93i89e7q",
        "colab_type": "code",
        "colab": {}
      },
      "source": [
        "import copy\n",
        "model_for_pc = copy.deepcopy(model)\n",
        "model_original = copy.deepcopy(model)\n",
        "model_for_pt = copy.deepcopy(model)"
      ],
      "execution_count": 12,
      "outputs": []
    },
    {
      "cell_type": "code",
      "metadata": {
        "id": "a1iRFx0K9ips",
        "colab_type": "code",
        "colab": {}
      },
      "source": [
        "kld_meter_pc = []\n",
        "kld_meter_pt = []"
      ],
      "execution_count": 13,
      "outputs": []
    },
    {
      "cell_type": "code",
      "metadata": {
        "id": "usQAfqqeTC0B",
        "colab_type": "code",
        "colab": {
          "base_uri": "https://localhost:8080/",
          "height": 35
        },
        "outputId": "4c750074-7942-4571-91a2-3236beab67cd"
      },
      "source": [
        "model_original.eval()\n",
        "model_for_pt.eval()\n",
        "model_for_pc.eval()\n",
        "print(1)"
      ],
      "execution_count": 14,
      "outputs": [
        {
          "output_type": "stream",
          "text": [
            "1\n"
          ],
          "name": "stdout"
        }
      ]
    },
    {
      "cell_type": "code",
      "metadata": {
        "id": "mHziSEkb9ncC",
        "colab_type": "code",
        "colab": {}
      },
      "source": [
        "from torch.nn import Module, Parameter\n",
        "k = 8\n",
        "flag = 0\n",
        "for n, m in model_for_pc.named_modules():\n",
        "  if isinstance(m, nn.Conv2d):\n",
        "    #m.weight = Parameter(torch.zeros(m.weight.shape))\n",
        "    #w = self.weight\n",
        "    original_weight = m.weight\n",
        "    x_transform = m.weight.data.contiguous().view(m.weight.shape[0], -1)\n",
        "    w_min = x_transform.min(dim=1).values\n",
        "    w_max = x_transform.max(dim=1).values\n",
        "    scale, zero_point = asymmetric_linear_quantization_params(\n",
        "            k, w_min, w_max)\n",
        "    new_quant_x = linear_quantize_pc(m.weight, scale, zero_point, inplace=False)\n",
        "    n = 2**(k - 1)\n",
        "    new_quant_x = torch.clamp(new_quant_x, -n, n - 1)\n",
        "    quant_x = linear_dequantize_pc(new_quant_x,\n",
        "                                scale,\n",
        "                                zero_point,\n",
        "                                inplace=False)\n",
        "    m.weight = Parameter(torch.autograd.Variable(quant_x))\n",
        "    flag = 1\n",
        "  if isinstance(m, nn.Linear):\n",
        "    #w = self.weight\n",
        "    original_weight = m.weight\n",
        "    x_transform = m.weight.data.detach()\n",
        "    #print(\"x_transform\")\n",
        "    #print(x_transform)\n",
        "\n",
        "    w_min = x_transform.min(dim=1).values\n",
        "    w_max = x_transform.max(dim=1).values\n",
        "\n",
        "    scale, zero_point = asymmetric_linear_quantization_params(\n",
        "            k, w_min, w_max)\n",
        "    new_quant_x = linear_quantize_pc(m.weight, scale, zero_point, inplace=False)\n",
        "    n = 2**(k - 1)\n",
        "    new_quant_x = torch.clamp(new_quant_x, -n, n - 1)\n",
        "    quant_x = linear_dequantize_pc(new_quant_x,\n",
        "                                scale,\n",
        "                                zero_point,\n",
        "                                inplace=False)\n",
        "    m.weight = Parameter(torch.autograd.Variable(quant_x))\n",
        "    flag = 1\n",
        "    \n",
        "  if flag != 0:\n",
        "    #model_for_pc.eval()\n",
        "    output_pc = model_for_pc(input_batch)\n",
        "    output_pc1 = F.softmax(output_pc, dim=1)\n",
        "    ref_output = model_original(input_batch)\n",
        "    ref_output1 = F.softmax(ref_output, dim=1)\n",
        "\n",
        "    curr_kld = kl_div(ref_output1, output_pc1)\n",
        "    kld_meter_pc.append(curr_kld.detach())\n",
        "\n",
        "    m.weight = original_weight\n",
        "    flag = 0"
      ],
      "execution_count": 15,
      "outputs": []
    },
    {
      "cell_type": "code",
      "metadata": {
        "id": "nqWxcY-WSgYB",
        "colab_type": "code",
        "colab": {}
      },
      "source": [
        "volatile=True"
      ],
      "execution_count": 16,
      "outputs": []
    },
    {
      "cell_type": "code",
      "metadata": {
        "id": "oge4ES9K9qxL",
        "colab_type": "code",
        "colab": {}
      },
      "source": [
        "from torch.nn import Module, Parameter\n",
        "k = 8\n",
        "flag = 0\n",
        "for n, m in model_for_pt.named_modules():\n",
        "  if isinstance(m, nn.Conv2d):\n",
        "    #print(n)\n",
        "    original_weight = m.weight\n",
        "    #m.weight = Parameter(torch.zeros(m.weight.shape))\n",
        "    #w = self.weight\n",
        "    #w = self.weight\n",
        "    #print(m.weight.shape)\n",
        "    x_transform = m.weight.data.contiguous().view(m.weight.shape[0], -1)\n",
        "    w_min = x_transform.min(dim=1).values\n",
        "    w_max = x_transform.max(dim=1).values\n",
        "    w_min_pt = torch.min(w_min)\n",
        "    w_max_pt = torch.max(w_max)\n",
        "\n",
        "    scale, zero_point = asymmetric_linear_quantization_params(\n",
        "            k, w_min_pt, w_max_pt)\n",
        "    new_quant_x = linear_quantize_pt(m.weight, scale, zero_point, inplace=False)\n",
        "    n = 2**(k - 1)\n",
        "    new_quant_x = torch.clamp(new_quant_x, -n, n - 1)\n",
        "    quant_x = linear_dequantize_pt(new_quant_x,\n",
        "                                scale,\n",
        "                                zero_point,\n",
        "                                inplace=False)\n",
        "    #print(quant_x.shape)\n",
        "    #print(m.weight.shape)\n",
        "    m.weight = Parameter(torch.autograd.Variable(quant_x.reshape(m.weight.shape)))\n",
        "    #print(m.weight.shape)\n",
        "\n",
        "    flag = 1\n",
        "\n",
        "  if isinstance(m, nn.Linear):\n",
        "    #w = self.weight\n",
        "    original_weight = m.weight\n",
        "    x_transform = m.weight.data.detach()\n",
        "    #print(\"x_transform\")\n",
        "    #print(x_transform)\n",
        "\n",
        "    w_min = x_transform.min(dim=1).values\n",
        "    w_max = x_transform.max(dim=1).values\n",
        "    w_min_pt = torch.min(w_min)\n",
        "    w_max_pt = torch.max(w_max)\n",
        "\n",
        "    scale, zero_point = asymmetric_linear_quantization_params(\n",
        "            k, w_min_pt, w_max_pt)\n",
        "    new_quant_x = linear_quantize_pt(m.weight, scale, zero_point, inplace=False)\n",
        "    n = 2**(k - 1)\n",
        "    new_quant_x = torch.clamp(new_quant_x, -n, n - 1)\n",
        "    quant_x = linear_dequantize_pt(new_quant_x,\n",
        "                                scale,\n",
        "                                zero_point,\n",
        "                                inplace=False)\n",
        "    #print(quant_x.shape)\n",
        "    #print(m.weight.shape)\n",
        "    m.weight = Parameter(torch.autograd.Variable(quant_x.reshape(m.weight.shape)))\n",
        "    #print(m.weight.shape)\n",
        "\n",
        "    flag = 1\n",
        "\n",
        "  if flag != 0:\n",
        "    #model_for_pt.eval()\n",
        "    #print(n)\n",
        "    #print(m.weight.shape)\n",
        "    output_pt = model_for_pt(input_batch)\n",
        "    output_pt1 = F.softmax(output_pt, dim=1)\n",
        "    ref_output = model_original(input_batch)\n",
        "    ref_output1 = F.softmax(ref_output, dim=1)\n",
        "\n",
        "    curr_kld = kl_div(ref_output1, output_pt1)\n",
        "    kld_meter_pt.append(curr_kld.detach())\n",
        "\n",
        "    m.weight = original_weight\n",
        "    #print()\n",
        "    flag = 0"
      ],
      "execution_count": 17,
      "outputs": []
    },
    {
      "cell_type": "code",
      "metadata": {
        "id": "PZss2VPzhji_",
        "colab_type": "code",
        "colab": {}
      },
      "source": [
        ""
      ],
      "execution_count": null,
      "outputs": []
    },
    {
      "cell_type": "code",
      "metadata": {
        "id": "XqjgEWT9TOf2",
        "colab_type": "code",
        "colab": {
          "base_uri": "https://localhost:8080/",
          "height": 74
        },
        "outputId": "91f1574b-34f8-4e81-a002-0b74abdeefd7"
      },
      "source": [
        "print(kld_meter_pc)\n",
        "print(kld_meter_pt)"
      ],
      "execution_count": 18,
      "outputs": [
        {
          "output_type": "stream",
          "text": [
            "[tensor(0.0003), tensor(0.0001), tensor(5.4235e-05), tensor(1.2040e-05), tensor(2.6634e-05), tensor(6.0112e-05), tensor(6.4968e-06), tensor(5.1602e-05), tensor(2.0258e-05), tensor(4.8163e-06), tensor(1.6483e-05), tensor(1.0513e-05), tensor(4.6583e-06), tensor(9.5573e-06), tensor(3.7161e-06), tensor(3.6259e-05), tensor(4.8605e-05), tensor(2.3665e-06), tensor(4.5223e-06), tensor(2.7778e-06), tensor(0.0001)]\n",
            "[tensor(0.0008), tensor(0.0005), tensor(0.0003), tensor(0.0002), tensor(5.8618e-05), tensor(8.6256e-05), tensor(3.8429e-06), tensor(0.0002), tensor(3.6556e-05), tensor(4.8026e-06), tensor(2.9720e-05), tensor(7.6463e-05), tensor(1.7829e-05), tensor(2.3742e-05), tensor(4.2484e-05), tensor(0.0001), tensor(0.0005), tensor(0.0002), tensor(2.1297e-05), tensor(1.5591e-05), tensor(3.5292e-05)]\n"
          ],
          "name": "stdout"
        }
      ]
    },
    {
      "cell_type": "code",
      "metadata": {
        "id": "byyDfiZd_l3r",
        "colab_type": "code",
        "colab": {}
      },
      "source": [
        "mixed_flag = []"
      ],
      "execution_count": 19,
      "outputs": []
    },
    {
      "cell_type": "code",
      "metadata": {
        "id": "Yu9GtgCd-X2k",
        "colab_type": "code",
        "colab": {}
      },
      "source": [
        "for i in range(len(kld_meter_pc)):\n",
        "  if(kld_meter_pc[i] < kld_meter_pt[i]):\n",
        "    mixed_flag.append(0)\n",
        "  else:\n",
        "    mixed_flag.append(1)"
      ],
      "execution_count": 20,
      "outputs": []
    },
    {
      "cell_type": "code",
      "metadata": {
        "id": "w2T2NG8a_4ri",
        "colab_type": "code",
        "colab": {
          "base_uri": "https://localhost:8080/",
          "height": 35
        },
        "outputId": "72b01a49-4a99-431e-b64f-2a6d0ec73ae7"
      },
      "source": [
        "print(mixed_flag)"
      ],
      "execution_count": 21,
      "outputs": [
        {
          "output_type": "stream",
          "text": [
            "[0, 0, 0, 0, 0, 0, 1, 0, 0, 1, 0, 0, 0, 0, 0, 0, 0, 0, 0, 0, 1]\n"
          ],
          "name": "stdout"
        }
      ]
    },
    {
      "cell_type": "code",
      "metadata": {
        "id": "9nK-sm3ALQiX",
        "colab_type": "code",
        "colab": {
          "base_uri": "https://localhost:8080/",
          "height": 1000
        },
        "outputId": "8f8fc940-4c71-40a8-8ba0-b8ab79ef2ec2"
      },
      "source": [
        "model = models.resnet18(pretrained=True, progress=True)\n",
        "count = 0\n",
        "k = 8\n",
        "from torch.nn import Module, Parameter\n",
        "for n,m in model.named_modules():\n",
        "  if isinstance(m, nn.Conv2d):\n",
        "    \n",
        "    if mixed_flag[count] == 0:\n",
        "      print('inside conv pc')\n",
        "      print(count)\n",
        "      original_weight = m.weight\n",
        "      x_transform = m.weight.data.contiguous().view(m.weight.shape[0], -1)\n",
        "      w_min = x_transform.min(dim=1).values\n",
        "      w_max = x_transform.max(dim=1).values\n",
        "      w_min_pt = torch.min(w_min)\n",
        "      w_max_pt = torch.max(w_max)\n",
        "      scale, zero_point = asymmetric_linear_quantization_params(\n",
        "              k, w_min, w_max)\n",
        "      new_quant_x = linear_quantize_pc(m.weight, scale, zero_point, inplace=False)\n",
        "      n = 2**(k - 1)\n",
        "      new_quant_x = torch.clamp(new_quant_x, -n, n - 1)\n",
        "      quant_x = linear_dequantize_pc(new_quant_x,\n",
        "                                  scale,\n",
        "                                  zero_point,\n",
        "                                  inplace=False)\n",
        "      \n",
        "\n",
        "      m.weight = Parameter(torch.autograd.Variable(quant_x))\n",
        "\n",
        "\n",
        "    if mixed_flag[count] == 1:\n",
        "      print('inside conv pt')\n",
        "      print(count)\n",
        "      original_weight = m.weight\n",
        "      x_transform = m.weight.data.contiguous().view(m.weight.shape[0], -1)\n",
        "      w_min = x_transform.min(dim=1).values\n",
        "      w_max = x_transform.max(dim=1).values\n",
        "      w_min_pt = torch.min(w_min)\n",
        "      w_max_pt = torch.max(w_max)\n",
        "\n",
        "      scale, zero_point = asymmetric_linear_quantization_params(\n",
        "              k, w_min_pt, w_max_pt)\n",
        "      new_quant_x = linear_quantize_pt(m.weight, scale, zero_point, inplace=False)\n",
        "      n = 2**(k - 1)\n",
        "      new_quant_x = torch.clamp(new_quant_x, -n, n - 1)\n",
        "      quant_x = linear_dequantize_pt(new_quant_x,\n",
        "                                  scale,\n",
        "                                  zero_point,\n",
        "                                  inplace=False)\n",
        "      #print(quant_x.shape)\n",
        "      #print(m.weight.shape)\n",
        "\n",
        "      new_quant_x_pc = linear_quantize_pc(m.weight, scale, zero_point, inplace=False)\n",
        "      n = 2**(k - 1)\n",
        "      new_quant_x_pc = torch.clamp(new_quant_x_pc, -n, n - 1)\n",
        "      quant_x_pc = linear_dequantize_pc(new_quant_x_pc,\n",
        "                                  scale,\n",
        "                                  zero_point,\n",
        "                                  inplace=False)\n",
        "      \n",
        "      m.weight = Parameter(torch.autograd.Variable(quant_x))\n",
        "\n",
        "      fig1, ax1 = plt.subplots(3)\n",
        "      #fig.suptitle('Axes values are scaled individually by default')\n",
        "      fig1.suptitle(str(count))\n",
        "      fig1.set_size_inches(10.5, 10.5)\n",
        "      weight_pt = np.array(quant_x.data.view(-1))\n",
        "      weight_pc = np.array(quant_x_pc.data.view(-1))\n",
        "      plot2 = np.array(original_weight.data.view(-1))\n",
        "      ax1[0].hist(weight_pt, bins = 100)\n",
        "      ax1[1].hist(weight_pc, bins = 100)\n",
        "      ax1[2].hist(plot2, bins = 100)\n",
        "\n",
        "    count = count + 1\n",
        "\n",
        "  if isinstance(m, nn.Linear):\n",
        "    if mixed_flag[count] == 0:\n",
        "      print('inside linear pc')\n",
        "      print(count)\n",
        "      original_weight = m.weight\n",
        "      x_transform = m.weight.data.detach()\n",
        "      #print(\"x_transform\")\n",
        "      #print(x_transform)\n",
        "\n",
        "      w_min = x_transform.min(dim=1).values\n",
        "      w_max = x_transform.max(dim=1).values\n",
        "\n",
        "      scale, zero_point = asymmetric_linear_quantization_params(\n",
        "              k, w_min, w_max)\n",
        "      new_quant_x = linear_quantize_pc(m.weight, scale, zero_point, inplace=False)\n",
        "      n = 2**(k - 1)\n",
        "      new_quant_x = torch.clamp(new_quant_x, -n, n - 1)\n",
        "      quant_x = linear_dequantize_pc(new_quant_x,\n",
        "                                  scale,\n",
        "                                  zero_point,\n",
        "                                  inplace=False)\n",
        "      m.weight = Parameter(torch.autograd.Variable(quant_x))\n",
        "\n",
        "    if mixed_flag[count] == 1:\n",
        "      print('inside linear pt')\n",
        "      print(count)\n",
        "      original_weight = m.weight\n",
        "      x_transform = m.weight.data.detach()\n",
        "      #print(\"x_transform\")\n",
        "      #print(x_transform)\n",
        "\n",
        "      w_min = x_transform.min(dim=1).values\n",
        "      w_max = x_transform.max(dim=1).values\n",
        "      w_min_pt = torch.min(w_min)\n",
        "      w_max_pt = torch.max(w_max)\n",
        "\n",
        "      scale, zero_point = asymmetric_linear_quantization_params(\n",
        "              k, w_min_pt, w_max_pt)\n",
        "      new_quant_x = linear_quantize_pt(m.weight, scale, zero_point, inplace=False)\n",
        "      n = 2**(k - 1)\n",
        "      new_quant_x = torch.clamp(new_quant_x, -n, n - 1)\n",
        "      quant_x = linear_dequantize_pt(new_quant_x,\n",
        "                                  scale,\n",
        "                                  zero_point,\n",
        "                                  inplace=False)\n",
        "      \n",
        "\n",
        "      new_quant_x_pc = linear_quantize_pc(m.weight, scale, zero_point, inplace=False)\n",
        "      n = 2**(k - 1)\n",
        "      new_quant_x_pc = torch.clamp(new_quant_x_pc, -n, n - 1)\n",
        "      quant_x_pc = linear_dequantize_pc(new_quant_x_pc,\n",
        "                                  scale,\n",
        "                                  zero_point,\n",
        "                                  inplace=False)\n",
        "      #print(quant_x.shape)\n",
        "      #print(m.weight.shape)\n",
        "      \n",
        "      m.weight = Parameter(torch.autograd.Variable(quant_x.reshape(m.weight.shape)))\n",
        "      \n",
        "      fig, ax = plt.subplots(3)\n",
        "      #fig.suptitle('Axes values are scaled individually by default')\n",
        "      fig.suptitle(str(count))\n",
        "      fig.set_size_inches(10.5, 10.5)\n",
        "      weight_pt = np.array(quant_x.data.view(-1))\n",
        "      weight_pc = np.array(quant_x_pc.data.view(-1))\n",
        "      plot2 = np.array(original_weight.data.view(-1))\n",
        "      ax[0].hist(weight_pt, bins = 100)\n",
        "      ax[1].hist(weight_pc, bins = 100)\n",
        "      ax[2].hist(plot2, bins = 100)\n",
        "      #plt.show()\n",
        "\n",
        "    count = count + 1\n",
        "      "
      ],
      "execution_count": 27,
      "outputs": [
        {
          "output_type": "stream",
          "text": [
            "inside conv pc\n",
            "0\n",
            "inside conv pc\n",
            "1\n",
            "inside conv pc\n",
            "2\n",
            "inside conv pc\n",
            "3\n",
            "inside conv pc\n",
            "4\n",
            "inside conv pc\n",
            "5\n",
            "inside conv pt\n",
            "6\n",
            "inside conv pc\n",
            "7\n",
            "inside conv pc\n",
            "8\n",
            "inside conv pt\n",
            "9\n",
            "inside conv pc\n",
            "10\n",
            "inside conv pc\n",
            "11\n",
            "inside conv pc\n",
            "12\n",
            "inside conv pc\n",
            "13\n",
            "inside conv pc\n",
            "14\n",
            "inside conv pc\n",
            "15\n",
            "inside conv pc\n",
            "16\n",
            "inside conv pc\n",
            "17\n",
            "inside conv pc\n",
            "18\n",
            "inside conv pc\n",
            "19\n",
            "inside linear pt\n",
            "20\n"
          ],
          "name": "stdout"
        },
        {
          "output_type": "display_data",
          "data": {
            "image/png": "[encoded data removed]",
            "text/plain": [
              "<Figure size 756x756 with 3 Axes>"
            ]
          },
          "metadata": {
            "tags": [],
            "needs_background": "light"
          }
        },
        {
          "output_type": "display_data",
          "data": {
            "image/png": "[encoded data removed]",
            "text/plain": [
              "<Figure size 756x756 with 3 Axes>"
            ]
          },
          "metadata": {
            "tags": [],
            "needs_background": "light"
          }
        },
        {
          "output_type": "display_data",
          "data": {
            "image/png": "[encoded data removed]",
            "text/plain": [
              "<Figure size 756x756 with 3 Axes>"
            ]
          },
          "metadata": {
            "tags": [],
            "needs_background": "light"
          }
        }
      ]
    },
    {
      "cell_type": "code",
      "metadata": {
        "id": "bwrz_q37vT_3",
        "colab_type": "code",
        "colab": {}
      },
      "source": [
        "import numpy as np\n",
        "import matplotlib.pyplot as plt\n"
      ],
      "execution_count": 25,
      "outputs": []
    },
    {
      "cell_type": "code",
      "metadata": {
        "id": "W5rb-tPCRnOz",
        "colab_type": "code",
        "colab": {}
      },
      "source": [
        "\n",
        "import torch\n",
        "import time\n",
        "import math\n",
        "import numpy as np\n",
        "import torch.nn as nn\n",
        "import torch.nn.functional as F\n",
        "from torch.nn import Module, Parameter\n",
        "import sys\n",
        "\n",
        "\n",
        "class QuantAct(Module):\n",
        "    \"\"\"\n",
        "    Class to quantize given activations\n",
        "    \"\"\"\n",
        "    def __init__(self,\n",
        "                 activation_bit,\n",
        "                 full_precision_flag=False,\n",
        "                 running_stat=True):\n",
        "        \"\"\"\n",
        "        activation_bit: bit-setting for activation\n",
        "        full_precision_flag: full precision or not\n",
        "        running_stat: determines whether the activation range is updated or froze\n",
        "        \"\"\"\n",
        "        super(QuantAct, self).__init__()\n",
        "        self.activation_bit = activation_bit\n",
        "        self.momentum = 0.99\n",
        "        self.full_precision_flag = full_precision_flag\n",
        "        self.running_stat = running_stat\n",
        "        self.register_buffer('x_min', torch.zeros(1))\n",
        "        self.register_buffer('x_max', torch.zeros(1))\n",
        "        self.act_function = AsymmetricQuantFunction.apply\n",
        "\n",
        "    def __repr__(self):\n",
        "        return \"{0}(activation_bit={1}, full_precision_flag={2}, running_stat={3}, Act_min: {4:.2f}, Act_max: {5:.2f})\".format(\n",
        "            self.__class__.__name__, self.activation_bit,\n",
        "            self.full_precision_flag, self.running_stat, self.x_min.item(),\n",
        "            self.x_max.item())\n",
        "\n",
        "    def fix(self):\n",
        "        \"\"\"\n",
        "        fix the activation range by setting running stat\n",
        "        \"\"\"\n",
        "        self.running_stat = False\n",
        "\n",
        "    def forward(self, x):\n",
        "        \"\"\"\n",
        "        quantize given activation x\n",
        "        \"\"\"\n",
        "        if self.running_stat:\n",
        "            x_min = x.data.min()\n",
        "            x_max = x.data.max()\n",
        "            # in-place operation used on multi-gpus\n",
        "            self.x_min += -self.x_min + min(self.x_min, x_min)\n",
        "            self.x_max += -self.x_max + max(self.x_max, x_max)\n",
        "\n",
        "        if not self.full_precision_flag:\n",
        "            quant_act = self.act_function(x, self.activation_bit, self.x_min,\n",
        "                                          self.x_max)\n",
        "            return quant_act\n",
        "        else:\n",
        "            return x\n",
        "\n",
        "\n",
        "class Quant_Linear(Module):\n",
        "    \"\"\"\n",
        "    Class to quantize given linear layer weights\n",
        "    \"\"\"\n",
        "    def __init__(self, weight_bit, full_precision_flag=False):\n",
        "        \"\"\"\n",
        "        weight: bit-setting for weight\n",
        "        full_precision_flag: full precision or not\n",
        "        running_stat: determines whether the activation range is updated or froze\n",
        "        \"\"\"\n",
        "        super(Quant_Linear, self).__init__()\n",
        "        self.full_precision_flag = full_precision_flag\n",
        "        self.weight_bit = weight_bit\n",
        "        self.weight_function = AsymmetricQuantFunction.apply\n",
        "        #self.pc_pt_flag = 0\n",
        "        self.weight_function_pt = AsymmetricQuantFunctionPT.apply\n",
        "\n",
        "    def __repr__(self):\n",
        "        s = super(Quant_Linear, self).__repr__()\n",
        "        s = \"(\" + s + \" weight_bit={}, full_precision_flag={})\".format(\n",
        "            self.weight_bit, self.full_precision_flag)\n",
        "        return s\n",
        "\n",
        "    def set_param(self, linear, flag):\n",
        "        self.in_features = linear.in_features\n",
        "        self.out_features = linear.out_features\n",
        "        self.weight = Parameter(linear.weight.data.clone())\n",
        "        #self.pc_pt_flag = flag\n",
        "        try:\n",
        "            self.bias = Parameter(linear.bias.data.clone())\n",
        "        except AttributeError:\n",
        "            self.bias = None\n",
        "\n",
        "    def forward(self, x):\n",
        "        \"\"\"\n",
        "        using quantized weights to forward activation x\n",
        "        \"\"\"\n",
        "        w = self.weight\n",
        "        '''x_transform = w.data.detach()\n",
        "        w_min = x_transform.min(dim=1).values\n",
        "        w_max = x_transform.max(dim=1).values\n",
        "\n",
        "        w_min_pt = torch.min(w_min)\n",
        "        w_max_pt = torch.max(w_max)'''\n",
        "\n",
        "\n",
        "        '''if(self.pc_pt_flag == 0):\n",
        "          if not self.full_precision_flag:\n",
        "              w = self.weight_function(self.weight, self.weight_bit, w_min,\n",
        "                                      w_max)\n",
        "          else:\n",
        "              w = self.weight\n",
        "\n",
        "        if(self.pc_pt_flag == 1):\n",
        "          if not self.full_precision_flag:\n",
        "              w = self.weight_function_pt(self.weight, self.weight_bit, w_min_pt,\n",
        "                                      w_max_pt)\n",
        "          else:\n",
        "              w = self.weight'''\n",
        "\n",
        "        return F.linear(x, weight=w, bias=self.bias)\n",
        "\n",
        "\n",
        "class Quant_Conv2d(Module):\n",
        "    \"\"\"\n",
        "    Class to quantize given convolutional layer weights\n",
        "    \"\"\"\n",
        "    def __init__(self, weight_bit, full_precision_flag=False):\n",
        "        super(Quant_Conv2d, self).__init__()\n",
        "        self.full_precision_flag = full_precision_flag\n",
        "        self.weight_bit = weight_bit\n",
        "        self.weight_function = AsymmetricQuantFunction.apply\n",
        "        #self.pc_pt_flag = 0\n",
        "        self.weight_function_pt = AsymmetricQuantFunctionPT.apply\n",
        "\n",
        "    def __repr__(self):\n",
        "        s = super(Quant_Conv2d, self).__repr__()\n",
        "        s = \"(\" + s + \" weight_bit={}, full_precision_flag={})\".format(\n",
        "            self.weight_bit, self.full_precision_flag)\n",
        "        return s\n",
        "\n",
        "    def set_param(self, conv, flag):\n",
        "        self.in_channels = conv.in_channels\n",
        "        self.out_channels = conv.out_channels\n",
        "        self.kernel_size = conv.kernel_size\n",
        "        self.stride = conv.stride\n",
        "        self.padding = conv.padding\n",
        "        self.dilation = conv.dilation\n",
        "        self.groups = conv.groups\n",
        "        self.weight = Parameter(conv.weight.data.clone())\n",
        "        #self.pc_pt_flag = flag\n",
        "        try:\n",
        "            self.bias = Parameter(conv.bias.data.clone())\n",
        "        except AttributeError:\n",
        "            self.bias = None\n",
        "\n",
        "    def forward(self, x):\n",
        "        \"\"\"\n",
        "        using quantized weights to forward activation x\n",
        "        \"\"\"\n",
        "        w = self.weight\n",
        "        '''x_transform = w.data.contiguous().view(self.out_channels, -1)\n",
        "        w_min = x_transform.min(dim=1).values\n",
        "        w_max = x_transform.max(dim=1).values\n",
        "\n",
        "        w_min_pt = torch.min(w_min)\n",
        "        w_max_pt = torch.max(w_max)\n",
        "\n",
        "        if(self.pc_pt_flag == 0):\n",
        "          if not self.full_precision_flag:\n",
        "              w = self.weight_function(self.weight, self.weight_bit, w_min,\n",
        "                                      w_max)\n",
        "          else:\n",
        "              w = self.weight\n",
        "\n",
        "        if(self.pc_pt_flag == 1):\n",
        "          if not self.full_precision_flag:\n",
        "              w = self.weight_function_pt(self.weight, self.weight_bit, w_min_pt,\n",
        "                                      w_max_pt)\n",
        "          else:\n",
        "              w = self.weight'''\n",
        "\n",
        "          \n",
        "\n",
        "        return F.conv2d(x, w, self.bias, self.stride, self.padding,\n",
        "                        self.dilation, self.groups)"
      ],
      "execution_count": null,
      "outputs": []
    },
    {
      "cell_type": "code",
      "metadata": {
        "id": "ueYO2NPdSchh",
        "colab_type": "code",
        "colab": {
          "base_uri": "https://localhost:8080/",
          "height": 237
        },
        "outputId": "c7e78450-731a-4f07-c47f-2e4342f40eca"
      },
      "source": [
        "pip install pytorchcv"
      ],
      "execution_count": null,
      "outputs": [
        {
          "output_type": "stream",
          "text": [
            "Collecting pytorchcv\n",
            "\u001b[?25l  Downloading https://files.pythonhosted.org/packages/93/be/0bcd80dfc0d64e75ceb67836385402fece3c3b964c349172a21358813b25/pytorchcv-0.0.58-py2.py3-none-any.whl (435kB)\n",
            "\r\u001b[K     |▊                               | 10kB 9.3MB/s eta 0:00:01\r\u001b[K     |█▌                              | 20kB 1.5MB/s eta 0:00:01\r\u001b[K     |██▎                             | 30kB 2.0MB/s eta 0:00:01\r\u001b[K     |███                             | 40kB 1.6MB/s eta 0:00:01\r\u001b[K     |███▊                            | 51kB 1.9MB/s eta 0:00:01\r\u001b[K     |████▌                           | 61kB 2.1MB/s eta 0:00:01\r\u001b[K     |█████▎                          | 71kB 2.4MB/s eta 0:00:01\r\u001b[K     |██████                          | 81kB 2.6MB/s eta 0:00:01\r\u001b[K     |██████▊                         | 92kB 2.9MB/s eta 0:00:01\r\u001b[K     |███████▌                        | 102kB 2.7MB/s eta 0:00:01\r\u001b[K     |████████▎                       | 112kB 2.7MB/s eta 0:00:01\r\u001b[K     |█████████                       | 122kB 2.7MB/s eta 0:00:01\r\u001b[K     |█████████▉                      | 133kB 2.7MB/s eta 0:00:01\r\u001b[K     |██████████▌                     | 143kB 2.7MB/s eta 0:00:01\r\u001b[K     |███████████▎                    | 153kB 2.7MB/s eta 0:00:01\r\u001b[K     |████████████                    | 163kB 2.7MB/s eta 0:00:01\r\u001b[K     |████████████▉                   | 174kB 2.7MB/s eta 0:00:01\r\u001b[K     |█████████████▌                  | 184kB 2.7MB/s eta 0:00:01\r\u001b[K     |██████████████▎                 | 194kB 2.7MB/s eta 0:00:01\r\u001b[K     |███████████████                 | 204kB 2.7MB/s eta 0:00:01\r\u001b[K     |███████████████▉                | 215kB 2.7MB/s eta 0:00:01\r\u001b[K     |████████████████▋               | 225kB 2.7MB/s eta 0:00:01\r\u001b[K     |█████████████████▎              | 235kB 2.7MB/s eta 0:00:01\r\u001b[K     |██████████████████              | 245kB 2.7MB/s eta 0:00:01\r\u001b[K     |██████████████████▉             | 256kB 2.7MB/s eta 0:00:01\r\u001b[K     |███████████████████▋            | 266kB 2.7MB/s eta 0:00:01\r\u001b[K     |████████████████████▎           | 276kB 2.7MB/s eta 0:00:01\r\u001b[K     |█████████████████████           | 286kB 2.7MB/s eta 0:00:01\r\u001b[K     |█████████████████████▉          | 296kB 2.7MB/s eta 0:00:01\r\u001b[K     |██████████████████████▋         | 307kB 2.7MB/s eta 0:00:01\r\u001b[K     |███████████████████████▍        | 317kB 2.7MB/s eta 0:00:01\r\u001b[K     |████████████████████████        | 327kB 2.7MB/s eta 0:00:01\r\u001b[K     |████████████████████████▉       | 337kB 2.7MB/s eta 0:00:01\r\u001b[K     |█████████████████████████▋      | 348kB 2.7MB/s eta 0:00:01\r\u001b[K     |██████████████████████████▍     | 358kB 2.7MB/s eta 0:00:01\r\u001b[K     |███████████████████████████     | 368kB 2.7MB/s eta 0:00:01\r\u001b[K     |███████████████████████████▉    | 378kB 2.7MB/s eta 0:00:01\r\u001b[K     |████████████████████████████▋   | 389kB 2.7MB/s eta 0:00:01\r\u001b[K     |█████████████████████████████▍  | 399kB 2.7MB/s eta 0:00:01\r\u001b[K     |██████████████████████████████▏ | 409kB 2.7MB/s eta 0:00:01\r\u001b[K     |██████████████████████████████▉ | 419kB 2.7MB/s eta 0:00:01\r\u001b[K     |███████████████████████████████▋| 430kB 2.7MB/s eta 0:00:01\r\u001b[K     |████████████████████████████████| 440kB 2.7MB/s \n",
            "\u001b[?25hRequirement already satisfied: requests in /usr/local/lib/python3.6/dist-packages (from pytorchcv) (2.23.0)\n",
            "Requirement already satisfied: numpy in /usr/local/lib/python3.6/dist-packages (from pytorchcv) (1.18.5)\n",
            "Requirement already satisfied: idna<3,>=2.5 in /usr/local/lib/python3.6/dist-packages (from requests->pytorchcv) (2.10)\n",
            "Requirement already satisfied: certifi>=2017.4.17 in /usr/local/lib/python3.6/dist-packages (from requests->pytorchcv) (2020.6.20)\n",
            "Requirement already satisfied: chardet<4,>=3.0.2 in /usr/local/lib/python3.6/dist-packages (from requests->pytorchcv) (3.0.4)\n",
            "Requirement already satisfied: urllib3!=1.25.0,!=1.25.1,<1.26,>=1.21.1 in /usr/local/lib/python3.6/dist-packages (from requests->pytorchcv) (1.24.3)\n",
            "Installing collected packages: pytorchcv\n",
            "Successfully installed pytorchcv-0.0.58\n"
          ],
          "name": "stdout"
        }
      ]
    },
    {
      "cell_type": "code",
      "metadata": {
        "id": "qXOOotXg6nDM",
        "colab_type": "code",
        "colab": {}
      },
      "source": [
        ""
      ],
      "execution_count": null,
      "outputs": []
    },
    {
      "cell_type": "code",
      "metadata": {
        "id": "hwRzado9RobK",
        "colab_type": "code",
        "colab": {}
      },
      "source": [
        "import torch\n",
        "import torch.nn as nn\n",
        "import copy\n",
        "from pytorchcv.models.common import ConvBlock\n",
        "from pytorchcv.models.shufflenetv2 import ShuffleUnit, ShuffleInitBlock\n",
        "\n",
        "#a = \"ainvjdncvd\"\n",
        "layer_count = 0\n",
        "\n",
        "def quantize_model(model):\n",
        "    \"\"\"\n",
        "    Recursively quantize a pretrained single-precision model to int8 quantized model\n",
        "    model: pretrained single-precision model\n",
        "    \"\"\"\n",
        "    global layer_count\n",
        "    # quantize convolutional and linear layers to 8-bit\n",
        "    if type(model) == nn.Conv2d:\n",
        "        quant_mod = Quant_Conv2d(weight_bit=8)\n",
        "        quant_mod.set_param(model,mixed_flag[layer_count])\n",
        "        return quant_mod\n",
        "    elif type(model) == nn.Linear:\n",
        "        quant_mod = Quant_Linear(weight_bit=8)\n",
        "        quant_mod.set_param(model,mixed_flag[layer_count])\n",
        "        return quant_mod\n",
        "\n",
        "    # quantize all the activation to 8-bit\n",
        "    elif type(model) == nn.ReLU or type(model) == nn.ReLU6:\n",
        "        return nn.Sequential(*[model, QuantAct(activation_bit=8)])\n",
        "\n",
        "    # recursively use the quantized module to replace the single-precision module\n",
        "    elif type(model) == nn.Sequential:\n",
        "        mods = []\n",
        "        for n, m in model.named_children():\n",
        "            mods.append(quantize_model(m))\n",
        "        return nn.Sequential(*mods)\n",
        "    else:\n",
        "        q_model = copy.deepcopy(model)\n",
        "        for attr in dir(model):\n",
        "            mod = getattr(model, attr)\n",
        "            if isinstance(mod, nn.Module) and 'norm' not in attr:\n",
        "                setattr(q_model, attr, quantize_model(mod))\n",
        "        return q_model\n",
        "\n",
        "\n",
        "def freeze_model(model):\n",
        "    \"\"\"\n",
        "    freeze the activation range\n",
        "    \"\"\"\n",
        "    if type(model) == QuantAct:\n",
        "        model.fix()\n",
        "    elif type(model) == nn.Sequential:\n",
        "        mods = []\n",
        "        for n, m in model.named_children():\n",
        "            freeze_model(m)\n",
        "    else:\n",
        "        for attr in dir(model):\n",
        "            mod = getattr(model, attr)\n",
        "            if isinstance(mod, nn.Module) and 'norm' not in attr:\n",
        "                freeze_model(mod)\n",
        "        return model\n",
        "\n",
        "\n",
        "def unfreeze_model(model):\n",
        "    \"\"\"\n",
        "    unfreeze the activation range\n",
        "    \"\"\"\n",
        "    if type(model) == QuantAct:\n",
        "        model.unfix()\n",
        "    elif type(model) == nn.Sequential:\n",
        "        mods = []\n",
        "        for n, m in model.named_children():\n",
        "            unfreeze_model(m)\n",
        "    else:\n",
        "        for attr in dir(model):\n",
        "            mod = getattr(model, attr)\n",
        "            if isinstance(mod, nn.Module) and 'norm' not in attr:\n",
        "                unfreeze_model(mod)\n",
        "        return model\n"
      ],
      "execution_count": null,
      "outputs": []
    },
    {
      "cell_type": "code",
      "metadata": {
        "id": "-3Tgq4S5T_-Y",
        "colab_type": "code",
        "colab": {
          "base_uri": "https://localhost:8080/",
          "height": 35
        },
        "outputId": "774eaee9-a7fd-4867-c747-9d4024ed7fe1"
      },
      "source": [
        "print(mixed_flag)"
      ],
      "execution_count": null,
      "outputs": [
        {
          "output_type": "stream",
          "text": [
            "[0, 0, 0, 0, 0, 0, 1, 0, 0, 1, 0, 0, 0, 0, 0, 0, 0, 0, 0, 0, 1]\n"
          ],
          "name": "stdout"
        }
      ]
    },
    {
      "cell_type": "code",
      "metadata": {
        "id": "FwXdmvzMLa6A",
        "colab_type": "code",
        "colab": {}
      },
      "source": [
        "quantized_model = quantize_model(model)"
      ],
      "execution_count": null,
      "outputs": []
    },
    {
      "cell_type": "code",
      "metadata": {
        "id": "lUaImFuSTe60",
        "colab_type": "code",
        "colab": {}
      },
      "source": [
        "from PIL import Image\n",
        "import torchvision\n",
        "data = torchvision.datasets.FakeData(size=100, image_size=(3, 224, 224), num_classes=10, transform=transforms.Compose([transforms.ToTensor(),transforms.Normalize(mean=[0.485, 0.456, 0.406], std=[0.229, 0.224, 0.225])]), target_transform=None, random_offset=0)\n",
        "data_loader = torch.utils.data.DataLoader(data,\n",
        "                                          batch_size=64,\n",
        "                                          shuffle=True)"
      ],
      "execution_count": null,
      "outputs": []
    },
    {
      "cell_type": "code",
      "metadata": {
        "id": "8jv66rkQSprK",
        "colab_type": "code",
        "colab": {
          "base_uri": "https://localhost:8080/",
          "height": 201
        },
        "outputId": "f7bf5165-6bf6-4cdc-c31c-85d889acfc9d"
      },
      "source": [
        "pip install progress"
      ],
      "execution_count": null,
      "outputs": [
        {
          "output_type": "stream",
          "text": [
            "Collecting progress\n",
            "  Downloading https://files.pythonhosted.org/packages/38/ef/2e887b3d2b248916fc2121889ce68af8a16aaddbe82f9ae6533c24ff0d2b/progress-1.5.tar.gz\n",
            "Building wheels for collected packages: progress\n",
            "  Building wheel for progress (setup.py) ... \u001b[?25l\u001b[?25hdone\n",
            "  Created wheel for progress: filename=progress-1.5-cp36-none-any.whl size=8074 sha256=2b9c6fc52c7ff20b4174c76f8298260880c6a80798c82d8613a04adfe4791f59\n",
            "  Stored in directory: /root/.cache/pip/wheels/6c/c8/80/32a294e3041f006c661838c05a411c7b7ffc60ff939d14e116\n",
            "Successfully built progress\n",
            "Installing collected packages: progress\n",
            "Successfully installed progress-1.5\n"
          ],
          "name": "stdout"
        }
      ]
    },
    {
      "cell_type": "code",
      "metadata": {
        "id": "F9rcbfvgR3xi",
        "colab_type": "code",
        "colab": {}
      },
      "source": [
        "#*\n",
        "# @file Different utility functions\n",
        "# Copyright (c) Yaohui Cai, Zhewei Yao, Zhen Dong, Amir Gholami\n",
        "# All rights reserved.\n",
        "# This file is part of ZeroQ repository.\n",
        "#\n",
        "# ZeroQ is free software: you can redistribute it and/or modify\n",
        "# it under the terms of the GNU General Public License as published by\n",
        "# the Free Software Foundation, either version 3 of the License, or\n",
        "# (at your option) any later version.\n",
        "#\n",
        "# ZeroQ is distributed in the hope that it will be useful,\n",
        "# but WITHOUT ANY WARRANTY; without even the implied warranty of\n",
        "# MERCHANTABILITY or FITNESS FOR A PARTICULAR PURPOSE.  See the\n",
        "# GNU General Public License for more details.\n",
        "#\n",
        "# You should have received a copy of the GNU General Public License\n",
        "# along with ZeroQ repository.  If not, see <http://www.gnu.org/licenses/>.\n",
        "#*\n",
        "\n",
        "import torch\n",
        "import os\n",
        "import torch.nn as nn\n",
        "from progress.bar import Bar\n",
        "\n",
        "\n",
        "def test(model, test_loader):\n",
        "    \"\"\"\n",
        "    test a model on a given dataset\n",
        "    \"\"\"\n",
        "    total, correct = 0, 0\n",
        "    bar = Bar('Testing', max=len(test_loader))\n",
        "    model.eval()\n",
        "    with torch.no_grad():\n",
        "        for batch_idx, (inputs, targets) in enumerate(test_loader):\n",
        "            inputs, targets = inputs.cuda(), targets.cuda()\n",
        "            outputs = model(inputs)\n",
        "            _, predicted = outputs.max(1)\n",
        "            total += targets.size(0)\n",
        "            correct += predicted.eq(targets).sum().item()\n",
        "            acc = correct / total\n",
        "\n",
        "            bar.suffix = f'({batch_idx + 1}/{len(test_loader)}) | ETA: {bar.eta_td} | top1: {acc}'\n",
        "            bar.next()\n",
        "    print('\\nFinal acc: %.2f%% (%d/%d)' % (100. * acc, correct, total))\n",
        "    bar.finish()\n",
        "    model.train()\n",
        "    return acc\n",
        "\n",
        "\n",
        "def update(quantized_model, distilD):\n",
        "    \"\"\"\n",
        "    Update activation range according to distilled data\n",
        "    quantized_model: a quantized model whose activation range to be updated \n",
        "    distilD: distilled data\n",
        "    \"\"\"\n",
        "    with torch.no_grad():\n",
        "        for batch_idx, inputs in enumerate(distilD):\n",
        "            if isinstance(inputs, list):\n",
        "                inputs = inputs[0]\n",
        "            #inputs = inputs.cuda()\n",
        "            outputs = quantized_model(inputs)\n",
        "    return quantized_model\n"
      ],
      "execution_count": null,
      "outputs": []
    },
    {
      "cell_type": "code",
      "metadata": {
        "id": "hJ4GrjQaL3lL",
        "colab_type": "code",
        "colab": {
          "base_uri": "https://localhost:8080/",
          "height": 1000
        },
        "outputId": "46054595-23a4-476a-bb86-6f4cc159eb8e"
      },
      "source": [
        "quantized_model.eval()"
      ],
      "execution_count": null,
      "outputs": [
        {
          "output_type": "execute_result",
          "data": {
            "text/plain": [
              "ResNet(\n",
              "  (conv1): (Quant_Conv2d() weight_bit=8, full_precision_flag=False)\n",
              "  (bn1): BatchNorm2d(64, eps=1e-05, momentum=0.1, affine=True, track_running_stats=True)\n",
              "  (relu): Sequential(\n",
              "    (0): ReLU(inplace=True)\n",
              "    (1): QuantAct(activation_bit=8, full_precision_flag=False, running_stat=True, Act_min: 0.00, Act_max: 0.00)\n",
              "  )\n",
              "  (maxpool): MaxPool2d(kernel_size=3, stride=2, padding=1, dilation=1, ceil_mode=False)\n",
              "  (layer1): Sequential(\n",
              "    (0): BasicBlock(\n",
              "      (conv1): (Quant_Conv2d() weight_bit=8, full_precision_flag=False)\n",
              "      (bn1): BatchNorm2d(64, eps=1e-05, momentum=0.1, affine=True, track_running_stats=True)\n",
              "      (relu): Sequential(\n",
              "        (0): ReLU(inplace=True)\n",
              "        (1): QuantAct(activation_bit=8, full_precision_flag=False, running_stat=True, Act_min: 0.00, Act_max: 0.00)\n",
              "      )\n",
              "      (conv2): (Quant_Conv2d() weight_bit=8, full_precision_flag=False)\n",
              "      (bn2): BatchNorm2d(64, eps=1e-05, momentum=0.1, affine=True, track_running_stats=True)\n",
              "    )\n",
              "    (1): BasicBlock(\n",
              "      (conv1): (Quant_Conv2d() weight_bit=8, full_precision_flag=False)\n",
              "      (bn1): BatchNorm2d(64, eps=1e-05, momentum=0.1, affine=True, track_running_stats=True)\n",
              "      (relu): Sequential(\n",
              "        (0): ReLU(inplace=True)\n",
              "        (1): QuantAct(activation_bit=8, full_precision_flag=False, running_stat=True, Act_min: 0.00, Act_max: 0.00)\n",
              "      )\n",
              "      (conv2): (Quant_Conv2d() weight_bit=8, full_precision_flag=False)\n",
              "      (bn2): BatchNorm2d(64, eps=1e-05, momentum=0.1, affine=True, track_running_stats=True)\n",
              "    )\n",
              "  )\n",
              "  (layer2): Sequential(\n",
              "    (0): BasicBlock(\n",
              "      (conv1): (Quant_Conv2d() weight_bit=8, full_precision_flag=False)\n",
              "      (bn1): BatchNorm2d(128, eps=1e-05, momentum=0.1, affine=True, track_running_stats=True)\n",
              "      (relu): Sequential(\n",
              "        (0): ReLU(inplace=True)\n",
              "        (1): QuantAct(activation_bit=8, full_precision_flag=False, running_stat=True, Act_min: 0.00, Act_max: 0.00)\n",
              "      )\n",
              "      (conv2): (Quant_Conv2d() weight_bit=8, full_precision_flag=False)\n",
              "      (bn2): BatchNorm2d(128, eps=1e-05, momentum=0.1, affine=True, track_running_stats=True)\n",
              "      (downsample): Sequential(\n",
              "        (0): (Quant_Conv2d() weight_bit=8, full_precision_flag=False)\n",
              "        (1): BatchNorm2d(128, eps=1e-05, momentum=0.1, affine=True, track_running_stats=True)\n",
              "      )\n",
              "    )\n",
              "    (1): BasicBlock(\n",
              "      (conv1): (Quant_Conv2d() weight_bit=8, full_precision_flag=False)\n",
              "      (bn1): BatchNorm2d(128, eps=1e-05, momentum=0.1, affine=True, track_running_stats=True)\n",
              "      (relu): Sequential(\n",
              "        (0): ReLU(inplace=True)\n",
              "        (1): QuantAct(activation_bit=8, full_precision_flag=False, running_stat=True, Act_min: 0.00, Act_max: 0.00)\n",
              "      )\n",
              "      (conv2): (Quant_Conv2d() weight_bit=8, full_precision_flag=False)\n",
              "      (bn2): BatchNorm2d(128, eps=1e-05, momentum=0.1, affine=True, track_running_stats=True)\n",
              "    )\n",
              "  )\n",
              "  (layer3): Sequential(\n",
              "    (0): BasicBlock(\n",
              "      (conv1): (Quant_Conv2d() weight_bit=8, full_precision_flag=False)\n",
              "      (bn1): BatchNorm2d(256, eps=1e-05, momentum=0.1, affine=True, track_running_stats=True)\n",
              "      (relu): Sequential(\n",
              "        (0): ReLU(inplace=True)\n",
              "        (1): QuantAct(activation_bit=8, full_precision_flag=False, running_stat=True, Act_min: 0.00, Act_max: 0.00)\n",
              "      )\n",
              "      (conv2): (Quant_Conv2d() weight_bit=8, full_precision_flag=False)\n",
              "      (bn2): BatchNorm2d(256, eps=1e-05, momentum=0.1, affine=True, track_running_stats=True)\n",
              "      (downsample): Sequential(\n",
              "        (0): (Quant_Conv2d() weight_bit=8, full_precision_flag=False)\n",
              "        (1): BatchNorm2d(256, eps=1e-05, momentum=0.1, affine=True, track_running_stats=True)\n",
              "      )\n",
              "    )\n",
              "    (1): BasicBlock(\n",
              "      (conv1): (Quant_Conv2d() weight_bit=8, full_precision_flag=False)\n",
              "      (bn1): BatchNorm2d(256, eps=1e-05, momentum=0.1, affine=True, track_running_stats=True)\n",
              "      (relu): Sequential(\n",
              "        (0): ReLU(inplace=True)\n",
              "        (1): QuantAct(activation_bit=8, full_precision_flag=False, running_stat=True, Act_min: 0.00, Act_max: 0.00)\n",
              "      )\n",
              "      (conv2): (Quant_Conv2d() weight_bit=8, full_precision_flag=False)\n",
              "      (bn2): BatchNorm2d(256, eps=1e-05, momentum=0.1, affine=True, track_running_stats=True)\n",
              "    )\n",
              "  )\n",
              "  (layer4): Sequential(\n",
              "    (0): BasicBlock(\n",
              "      (conv1): (Quant_Conv2d() weight_bit=8, full_precision_flag=False)\n",
              "      (bn1): BatchNorm2d(512, eps=1e-05, momentum=0.1, affine=True, track_running_stats=True)\n",
              "      (relu): Sequential(\n",
              "        (0): ReLU(inplace=True)\n",
              "        (1): QuantAct(activation_bit=8, full_precision_flag=False, running_stat=True, Act_min: 0.00, Act_max: 0.00)\n",
              "      )\n",
              "      (conv2): (Quant_Conv2d() weight_bit=8, full_precision_flag=False)\n",
              "      (bn2): BatchNorm2d(512, eps=1e-05, momentum=0.1, affine=True, track_running_stats=True)\n",
              "      (downsample): Sequential(\n",
              "        (0): (Quant_Conv2d() weight_bit=8, full_precision_flag=False)\n",
              "        (1): BatchNorm2d(512, eps=1e-05, momentum=0.1, affine=True, track_running_stats=True)\n",
              "      )\n",
              "    )\n",
              "    (1): BasicBlock(\n",
              "      (conv1): (Quant_Conv2d() weight_bit=8, full_precision_flag=False)\n",
              "      (bn1): BatchNorm2d(512, eps=1e-05, momentum=0.1, affine=True, track_running_stats=True)\n",
              "      (relu): Sequential(\n",
              "        (0): ReLU(inplace=True)\n",
              "        (1): QuantAct(activation_bit=8, full_precision_flag=False, running_stat=True, Act_min: 0.00, Act_max: 0.00)\n",
              "      )\n",
              "      (conv2): (Quant_Conv2d() weight_bit=8, full_precision_flag=False)\n",
              "      (bn2): BatchNorm2d(512, eps=1e-05, momentum=0.1, affine=True, track_running_stats=True)\n",
              "    )\n",
              "  )\n",
              "  (avgpool): AdaptiveAvgPool2d(output_size=(1, 1))\n",
              "  (fc): (Quant_Linear() weight_bit=8, full_precision_flag=False)\n",
              ")"
            ]
          },
          "metadata": {
            "tags": []
          },
          "execution_count": 29
        }
      ]
    },
    {
      "cell_type": "code",
      "metadata": {
        "id": "jVs8RSEiSnjT",
        "colab_type": "code",
        "colab": {
          "base_uri": "https://localhost:8080/",
          "height": 1000
        },
        "outputId": "19755423-f718-4f01-a44b-29612eac17a7"
      },
      "source": [
        "update(quantized_model, data_loader)"
      ],
      "execution_count": null,
      "outputs": [
        {
          "output_type": "execute_result",
          "data": {
            "text/plain": [
              "ResNet(\n",
              "  (conv1): (Quant_Conv2d() weight_bit=8, full_precision_flag=False)\n",
              "  (bn1): BatchNorm2d(64, eps=1e-05, momentum=0.1, affine=True, track_running_stats=True)\n",
              "  (relu): Sequential(\n",
              "    (0): ReLU(inplace=True)\n",
              "    (1): QuantAct(activation_bit=8, full_precision_flag=False, running_stat=True, Act_min: 0.00, Act_max: 6.52)\n",
              "  )\n",
              "  (maxpool): MaxPool2d(kernel_size=3, stride=2, padding=1, dilation=1, ceil_mode=False)\n",
              "  (layer1): Sequential(\n",
              "    (0): BasicBlock(\n",
              "      (conv1): (Quant_Conv2d() weight_bit=8, full_precision_flag=False)\n",
              "      (bn1): BatchNorm2d(64, eps=1e-05, momentum=0.1, affine=True, track_running_stats=True)\n",
              "      (relu): Sequential(\n",
              "        (0): ReLU(inplace=True)\n",
              "        (1): QuantAct(activation_bit=8, full_precision_flag=False, running_stat=True, Act_min: 0.00, Act_max: 6.16)\n",
              "      )\n",
              "      (conv2): (Quant_Conv2d() weight_bit=8, full_precision_flag=False)\n",
              "      (bn2): BatchNorm2d(64, eps=1e-05, momentum=0.1, affine=True, track_running_stats=True)\n",
              "    )\n",
              "    (1): BasicBlock(\n",
              "      (conv1): (Quant_Conv2d() weight_bit=8, full_precision_flag=False)\n",
              "      (bn1): BatchNorm2d(64, eps=1e-05, momentum=0.1, affine=True, track_running_stats=True)\n",
              "      (relu): Sequential(\n",
              "        (0): ReLU(inplace=True)\n",
              "        (1): QuantAct(activation_bit=8, full_precision_flag=False, running_stat=True, Act_min: 0.00, Act_max: 6.76)\n",
              "      )\n",
              "      (conv2): (Quant_Conv2d() weight_bit=8, full_precision_flag=False)\n",
              "      (bn2): BatchNorm2d(64, eps=1e-05, momentum=0.1, affine=True, track_running_stats=True)\n",
              "    )\n",
              "  )\n",
              "  (layer2): Sequential(\n",
              "    (0): BasicBlock(\n",
              "      (conv1): (Quant_Conv2d() weight_bit=8, full_precision_flag=False)\n",
              "      (bn1): BatchNorm2d(128, eps=1e-05, momentum=0.1, affine=True, track_running_stats=True)\n",
              "      (relu): Sequential(\n",
              "        (0): ReLU(inplace=True)\n",
              "        (1): QuantAct(activation_bit=8, full_precision_flag=False, running_stat=True, Act_min: 0.00, Act_max: 3.90)\n",
              "      )\n",
              "      (conv2): (Quant_Conv2d() weight_bit=8, full_precision_flag=False)\n",
              "      (bn2): BatchNorm2d(128, eps=1e-05, momentum=0.1, affine=True, track_running_stats=True)\n",
              "      (downsample): Sequential(\n",
              "        (0): (Quant_Conv2d() weight_bit=8, full_precision_flag=False)\n",
              "        (1): BatchNorm2d(128, eps=1e-05, momentum=0.1, affine=True, track_running_stats=True)\n",
              "      )\n",
              "    )\n",
              "    (1): BasicBlock(\n",
              "      (conv1): (Quant_Conv2d() weight_bit=8, full_precision_flag=False)\n",
              "      (bn1): BatchNorm2d(128, eps=1e-05, momentum=0.1, affine=True, track_running_stats=True)\n",
              "      (relu): Sequential(\n",
              "        (0): ReLU(inplace=True)\n",
              "        (1): QuantAct(activation_bit=8, full_precision_flag=False, running_stat=True, Act_min: 0.00, Act_max: 4.56)\n",
              "      )\n",
              "      (conv2): (Quant_Conv2d() weight_bit=8, full_precision_flag=False)\n",
              "      (bn2): BatchNorm2d(128, eps=1e-05, momentum=0.1, affine=True, track_running_stats=True)\n",
              "    )\n",
              "  )\n",
              "  (layer3): Sequential(\n",
              "    (0): BasicBlock(\n",
              "      (conv1): (Quant_Conv2d() weight_bit=8, full_precision_flag=False)\n",
              "      (bn1): BatchNorm2d(256, eps=1e-05, momentum=0.1, affine=True, track_running_stats=True)\n",
              "      (relu): Sequential(\n",
              "        (0): ReLU(inplace=True)\n",
              "        (1): QuantAct(activation_bit=8, full_precision_flag=False, running_stat=True, Act_min: 0.00, Act_max: 2.53)\n",
              "      )\n",
              "      (conv2): (Quant_Conv2d() weight_bit=8, full_precision_flag=False)\n",
              "      (bn2): BatchNorm2d(256, eps=1e-05, momentum=0.1, affine=True, track_running_stats=True)\n",
              "      (downsample): Sequential(\n",
              "        (0): (Quant_Conv2d() weight_bit=8, full_precision_flag=False)\n",
              "        (1): BatchNorm2d(256, eps=1e-05, momentum=0.1, affine=True, track_running_stats=True)\n",
              "      )\n",
              "    )\n",
              "    (1): BasicBlock(\n",
              "      (conv1): (Quant_Conv2d() weight_bit=8, full_precision_flag=False)\n",
              "      (bn1): BatchNorm2d(256, eps=1e-05, momentum=0.1, affine=True, track_running_stats=True)\n",
              "      (relu): Sequential(\n",
              "        (0): ReLU(inplace=True)\n",
              "        (1): QuantAct(activation_bit=8, full_precision_flag=False, running_stat=True, Act_min: 0.00, Act_max: 2.14)\n",
              "      )\n",
              "      (conv2): (Quant_Conv2d() weight_bit=8, full_precision_flag=False)\n",
              "      (bn2): BatchNorm2d(256, eps=1e-05, momentum=0.1, affine=True, track_running_stats=True)\n",
              "    )\n",
              "  )\n",
              "  (layer4): Sequential(\n",
              "    (0): BasicBlock(\n",
              "      (conv1): (Quant_Conv2d() weight_bit=8, full_precision_flag=False)\n",
              "      (bn1): BatchNorm2d(512, eps=1e-05, momentum=0.1, affine=True, track_running_stats=True)\n",
              "      (relu): Sequential(\n",
              "        (0): ReLU(inplace=True)\n",
              "        (1): QuantAct(activation_bit=8, full_precision_flag=False, running_stat=True, Act_min: 0.00, Act_max: 2.14)\n",
              "      )\n",
              "      (conv2): (Quant_Conv2d() weight_bit=8, full_precision_flag=False)\n",
              "      (bn2): BatchNorm2d(512, eps=1e-05, momentum=0.1, affine=True, track_running_stats=True)\n",
              "      (downsample): Sequential(\n",
              "        (0): (Quant_Conv2d() weight_bit=8, full_precision_flag=False)\n",
              "        (1): BatchNorm2d(512, eps=1e-05, momentum=0.1, affine=True, track_running_stats=True)\n",
              "      )\n",
              "    )\n",
              "    (1): BasicBlock(\n",
              "      (conv1): (Quant_Conv2d() weight_bit=8, full_precision_flag=False)\n",
              "      (bn1): BatchNorm2d(512, eps=1e-05, momentum=0.1, affine=True, track_running_stats=True)\n",
              "      (relu): Sequential(\n",
              "        (0): ReLU(inplace=True)\n",
              "        (1): QuantAct(activation_bit=8, full_precision_flag=False, running_stat=True, Act_min: 0.00, Act_max: 9.29)\n",
              "      )\n",
              "      (conv2): (Quant_Conv2d() weight_bit=8, full_precision_flag=False)\n",
              "      (bn2): BatchNorm2d(512, eps=1e-05, momentum=0.1, affine=True, track_running_stats=True)\n",
              "    )\n",
              "  )\n",
              "  (avgpool): AdaptiveAvgPool2d(output_size=(1, 1))\n",
              "  (fc): (Quant_Linear() weight_bit=8, full_precision_flag=False)\n",
              ")"
            ]
          },
          "metadata": {
            "tags": []
          },
          "execution_count": 30
        }
      ]
    },
    {
      "cell_type": "code",
      "metadata": {
        "id": "m8fEzbb4UA-F",
        "colab_type": "code",
        "colab": {
          "base_uri": "https://localhost:8080/",
          "height": 1000
        },
        "outputId": "7ee1e371-1d54-49f9-8842-44c8824a69c0"
      },
      "source": [
        "freeze_model(quantized_model)"
      ],
      "execution_count": null,
      "outputs": [
        {
          "output_type": "execute_result",
          "data": {
            "text/plain": [
              "ResNet(\n",
              "  (conv1): (Quant_Conv2d() weight_bit=8, full_precision_flag=False)\n",
              "  (bn1): BatchNorm2d(64, eps=1e-05, momentum=0.1, affine=True, track_running_stats=True)\n",
              "  (relu): Sequential(\n",
              "    (0): ReLU(inplace=True)\n",
              "    (1): QuantAct(activation_bit=8, full_precision_flag=False, running_stat=False, Act_min: 0.00, Act_max: 6.52)\n",
              "  )\n",
              "  (maxpool): MaxPool2d(kernel_size=3, stride=2, padding=1, dilation=1, ceil_mode=False)\n",
              "  (layer1): Sequential(\n",
              "    (0): BasicBlock(\n",
              "      (conv1): (Quant_Conv2d() weight_bit=8, full_precision_flag=False)\n",
              "      (bn1): BatchNorm2d(64, eps=1e-05, momentum=0.1, affine=True, track_running_stats=True)\n",
              "      (relu): Sequential(\n",
              "        (0): ReLU(inplace=True)\n",
              "        (1): QuantAct(activation_bit=8, full_precision_flag=False, running_stat=False, Act_min: 0.00, Act_max: 6.16)\n",
              "      )\n",
              "      (conv2): (Quant_Conv2d() weight_bit=8, full_precision_flag=False)\n",
              "      (bn2): BatchNorm2d(64, eps=1e-05, momentum=0.1, affine=True, track_running_stats=True)\n",
              "    )\n",
              "    (1): BasicBlock(\n",
              "      (conv1): (Quant_Conv2d() weight_bit=8, full_precision_flag=False)\n",
              "      (bn1): BatchNorm2d(64, eps=1e-05, momentum=0.1, affine=True, track_running_stats=True)\n",
              "      (relu): Sequential(\n",
              "        (0): ReLU(inplace=True)\n",
              "        (1): QuantAct(activation_bit=8, full_precision_flag=False, running_stat=False, Act_min: 0.00, Act_max: 6.76)\n",
              "      )\n",
              "      (conv2): (Quant_Conv2d() weight_bit=8, full_precision_flag=False)\n",
              "      (bn2): BatchNorm2d(64, eps=1e-05, momentum=0.1, affine=True, track_running_stats=True)\n",
              "    )\n",
              "  )\n",
              "  (layer2): Sequential(\n",
              "    (0): BasicBlock(\n",
              "      (conv1): (Quant_Conv2d() weight_bit=8, full_precision_flag=False)\n",
              "      (bn1): BatchNorm2d(128, eps=1e-05, momentum=0.1, affine=True, track_running_stats=True)\n",
              "      (relu): Sequential(\n",
              "        (0): ReLU(inplace=True)\n",
              "        (1): QuantAct(activation_bit=8, full_precision_flag=False, running_stat=False, Act_min: 0.00, Act_max: 3.90)\n",
              "      )\n",
              "      (conv2): (Quant_Conv2d() weight_bit=8, full_precision_flag=False)\n",
              "      (bn2): BatchNorm2d(128, eps=1e-05, momentum=0.1, affine=True, track_running_stats=True)\n",
              "      (downsample): Sequential(\n",
              "        (0): (Quant_Conv2d() weight_bit=8, full_precision_flag=False)\n",
              "        (1): BatchNorm2d(128, eps=1e-05, momentum=0.1, affine=True, track_running_stats=True)\n",
              "      )\n",
              "    )\n",
              "    (1): BasicBlock(\n",
              "      (conv1): (Quant_Conv2d() weight_bit=8, full_precision_flag=False)\n",
              "      (bn1): BatchNorm2d(128, eps=1e-05, momentum=0.1, affine=True, track_running_stats=True)\n",
              "      (relu): Sequential(\n",
              "        (0): ReLU(inplace=True)\n",
              "        (1): QuantAct(activation_bit=8, full_precision_flag=False, running_stat=False, Act_min: 0.00, Act_max: 4.56)\n",
              "      )\n",
              "      (conv2): (Quant_Conv2d() weight_bit=8, full_precision_flag=False)\n",
              "      (bn2): BatchNorm2d(128, eps=1e-05, momentum=0.1, affine=True, track_running_stats=True)\n",
              "    )\n",
              "  )\n",
              "  (layer3): Sequential(\n",
              "    (0): BasicBlock(\n",
              "      (conv1): (Quant_Conv2d() weight_bit=8, full_precision_flag=False)\n",
              "      (bn1): BatchNorm2d(256, eps=1e-05, momentum=0.1, affine=True, track_running_stats=True)\n",
              "      (relu): Sequential(\n",
              "        (0): ReLU(inplace=True)\n",
              "        (1): QuantAct(activation_bit=8, full_precision_flag=False, running_stat=False, Act_min: 0.00, Act_max: 2.53)\n",
              "      )\n",
              "      (conv2): (Quant_Conv2d() weight_bit=8, full_precision_flag=False)\n",
              "      (bn2): BatchNorm2d(256, eps=1e-05, momentum=0.1, affine=True, track_running_stats=True)\n",
              "      (downsample): Sequential(\n",
              "        (0): (Quant_Conv2d() weight_bit=8, full_precision_flag=False)\n",
              "        (1): BatchNorm2d(256, eps=1e-05, momentum=0.1, affine=True, track_running_stats=True)\n",
              "      )\n",
              "    )\n",
              "    (1): BasicBlock(\n",
              "      (conv1): (Quant_Conv2d() weight_bit=8, full_precision_flag=False)\n",
              "      (bn1): BatchNorm2d(256, eps=1e-05, momentum=0.1, affine=True, track_running_stats=True)\n",
              "      (relu): Sequential(\n",
              "        (0): ReLU(inplace=True)\n",
              "        (1): QuantAct(activation_bit=8, full_precision_flag=False, running_stat=False, Act_min: 0.00, Act_max: 2.14)\n",
              "      )\n",
              "      (conv2): (Quant_Conv2d() weight_bit=8, full_precision_flag=False)\n",
              "      (bn2): BatchNorm2d(256, eps=1e-05, momentum=0.1, affine=True, track_running_stats=True)\n",
              "    )\n",
              "  )\n",
              "  (layer4): Sequential(\n",
              "    (0): BasicBlock(\n",
              "      (conv1): (Quant_Conv2d() weight_bit=8, full_precision_flag=False)\n",
              "      (bn1): BatchNorm2d(512, eps=1e-05, momentum=0.1, affine=True, track_running_stats=True)\n",
              "      (relu): Sequential(\n",
              "        (0): ReLU(inplace=True)\n",
              "        (1): QuantAct(activation_bit=8, full_precision_flag=False, running_stat=False, Act_min: 0.00, Act_max: 2.14)\n",
              "      )\n",
              "      (conv2): (Quant_Conv2d() weight_bit=8, full_precision_flag=False)\n",
              "      (bn2): BatchNorm2d(512, eps=1e-05, momentum=0.1, affine=True, track_running_stats=True)\n",
              "      (downsample): Sequential(\n",
              "        (0): (Quant_Conv2d() weight_bit=8, full_precision_flag=False)\n",
              "        (1): BatchNorm2d(512, eps=1e-05, momentum=0.1, affine=True, track_running_stats=True)\n",
              "      )\n",
              "    )\n",
              "    (1): BasicBlock(\n",
              "      (conv1): (Quant_Conv2d() weight_bit=8, full_precision_flag=False)\n",
              "      (bn1): BatchNorm2d(512, eps=1e-05, momentum=0.1, affine=True, track_running_stats=True)\n",
              "      (relu): Sequential(\n",
              "        (0): ReLU(inplace=True)\n",
              "        (1): QuantAct(activation_bit=8, full_precision_flag=False, running_stat=False, Act_min: 0.00, Act_max: 9.29)\n",
              "      )\n",
              "      (conv2): (Quant_Conv2d() weight_bit=8, full_precision_flag=False)\n",
              "      (bn2): BatchNorm2d(512, eps=1e-05, momentum=0.1, affine=True, track_running_stats=True)\n",
              "    )\n",
              "  )\n",
              "  (avgpool): AdaptiveAvgPool2d(output_size=(1, 1))\n",
              "  (fc): (Quant_Linear() weight_bit=8, full_precision_flag=False)\n",
              ")"
            ]
          },
          "metadata": {
            "tags": []
          },
          "execution_count": 31
        }
      ]
    },
    {
      "cell_type": "code",
      "metadata": {
        "id": "rSGG01o3MXnP",
        "colab_type": "code",
        "colab": {}
      },
      "source": [
        ""
      ],
      "execution_count": null,
      "outputs": []
    },
    {
      "cell_type": "code",
      "metadata": {
        "id": "gn42NPAUT0g0",
        "colab_type": "code",
        "colab": {}
      },
      "source": [
        "from torch.utils.data import Dataset, DataLoader\n",
        "from torchvision import datasets, transforms\n",
        "import torch\n",
        "\n",
        "normalize = transforms.Normalize(mean=[0.485, 0.456, 0.406],\n",
        "                                         std=[0.229, 0.224, 0.225])\n",
        "test_dataset = datasets.ImageFolder(\n",
        "    'drive/My Drive/ImageNet_samples_To_Raja',\n",
        "    transforms.Compose([\n",
        "        transforms.Resize(int(224 / 0.875)),\n",
        "        transforms.CenterCrop(224),\n",
        "        transforms.ToTensor(),\n",
        "        normalize,\n",
        "    ]))\n",
        "test_loader = DataLoader(test_dataset,\n",
        "                          batch_size=32,\n",
        "                          shuffle=False,\n",
        "                          num_workers=32)"
      ],
      "execution_count": null,
      "outputs": []
    },
    {
      "cell_type": "code",
      "metadata": {
        "id": "DUnlxj4OUFYx",
        "colab_type": "code",
        "colab": {
          "base_uri": "https://localhost:8080/",
          "height": 54
        },
        "outputId": "5d209704-79f5-4586-ff3e-f6c00fb1836c"
      },
      "source": [
        "with torch.no_grad():\n",
        "  j = 0\n",
        "  k = 0\n",
        "  label = [367, 251, 145, 9, 84, 963, 779, 292, 889, 340]\n",
        "  correct = 0\n",
        "  for batch_idx, (inputs, targets) in enumerate(test_loader):\n",
        "      #inputs, targets = inputs.cuda(), targets.cuda()\n",
        "      outputs = quantized_model(inputs)\n",
        "      for i in range(32):\n",
        "        if(j < 100):\n",
        "          #print(j)\n",
        "          predicted = (int(torch.argmax(outputs[i])))\n",
        "          if(j%10 == 0):\n",
        "            curr_label = label[k]\n",
        "            k = k + 1\n",
        "          if(predicted == curr_label):\n",
        "            #print(correct)\n",
        "            correct = correct + 1\n",
        "          j = j + 1\n",
        "\n",
        "  print(\"accuracy\")\n",
        "  print(correct/100)"
      ],
      "execution_count": null,
      "outputs": [
        {
          "output_type": "stream",
          "text": [
            "accuracy\n",
            "0.74\n"
          ],
          "name": "stdout"
        }
      ]
    },
    {
      "cell_type": "code",
      "metadata": {
        "id": "DCm9TM5PRzeW",
        "colab_type": "code",
        "colab": {
          "base_uri": "https://localhost:8080/",
          "height": 1000
        },
        "outputId": "c2d5e8eb-3bab-462c-8842-d3c11c779ea6"
      },
      "source": [
        "model_original.eval()"
      ],
      "execution_count": null,
      "outputs": [
        {
          "output_type": "execute_result",
          "data": {
            "text/plain": [
              "ResNet(\n",
              "  (conv1): Conv2d(3, 64, kernel_size=(7, 7), stride=(2, 2), padding=(3, 3), bias=False)\n",
              "  (bn1): BatchNorm2d(64, eps=1e-05, momentum=0.1, affine=True, track_running_stats=True)\n",
              "  (relu): ReLU(inplace=True)\n",
              "  (maxpool): MaxPool2d(kernel_size=3, stride=2, padding=1, dilation=1, ceil_mode=False)\n",
              "  (layer1): Sequential(\n",
              "    (0): BasicBlock(\n",
              "      (conv1): Conv2d(64, 64, kernel_size=(3, 3), stride=(1, 1), padding=(1, 1), bias=False)\n",
              "      (bn1): BatchNorm2d(64, eps=1e-05, momentum=0.1, affine=True, track_running_stats=True)\n",
              "      (relu): ReLU(inplace=True)\n",
              "      (conv2): Conv2d(64, 64, kernel_size=(3, 3), stride=(1, 1), padding=(1, 1), bias=False)\n",
              "      (bn2): BatchNorm2d(64, eps=1e-05, momentum=0.1, affine=True, track_running_stats=True)\n",
              "    )\n",
              "    (1): BasicBlock(\n",
              "      (conv1): Conv2d(64, 64, kernel_size=(3, 3), stride=(1, 1), padding=(1, 1), bias=False)\n",
              "      (bn1): BatchNorm2d(64, eps=1e-05, momentum=0.1, affine=True, track_running_stats=True)\n",
              "      (relu): ReLU(inplace=True)\n",
              "      (conv2): Conv2d(64, 64, kernel_size=(3, 3), stride=(1, 1), padding=(1, 1), bias=False)\n",
              "      (bn2): BatchNorm2d(64, eps=1e-05, momentum=0.1, affine=True, track_running_stats=True)\n",
              "    )\n",
              "  )\n",
              "  (layer2): Sequential(\n",
              "    (0): BasicBlock(\n",
              "      (conv1): Conv2d(64, 128, kernel_size=(3, 3), stride=(2, 2), padding=(1, 1), bias=False)\n",
              "      (bn1): BatchNorm2d(128, eps=1e-05, momentum=0.1, affine=True, track_running_stats=True)\n",
              "      (relu): ReLU(inplace=True)\n",
              "      (conv2): Conv2d(128, 128, kernel_size=(3, 3), stride=(1, 1), padding=(1, 1), bias=False)\n",
              "      (bn2): BatchNorm2d(128, eps=1e-05, momentum=0.1, affine=True, track_running_stats=True)\n",
              "      (downsample): Sequential(\n",
              "        (0): Conv2d(64, 128, kernel_size=(1, 1), stride=(2, 2), bias=False)\n",
              "        (1): BatchNorm2d(128, eps=1e-05, momentum=0.1, affine=True, track_running_stats=True)\n",
              "      )\n",
              "    )\n",
              "    (1): BasicBlock(\n",
              "      (conv1): Conv2d(128, 128, kernel_size=(3, 3), stride=(1, 1), padding=(1, 1), bias=False)\n",
              "      (bn1): BatchNorm2d(128, eps=1e-05, momentum=0.1, affine=True, track_running_stats=True)\n",
              "      (relu): ReLU(inplace=True)\n",
              "      (conv2): Conv2d(128, 128, kernel_size=(3, 3), stride=(1, 1), padding=(1, 1), bias=False)\n",
              "      (bn2): BatchNorm2d(128, eps=1e-05, momentum=0.1, affine=True, track_running_stats=True)\n",
              "    )\n",
              "  )\n",
              "  (layer3): Sequential(\n",
              "    (0): BasicBlock(\n",
              "      (conv1): Conv2d(128, 256, kernel_size=(3, 3), stride=(2, 2), padding=(1, 1), bias=False)\n",
              "      (bn1): BatchNorm2d(256, eps=1e-05, momentum=0.1, affine=True, track_running_stats=True)\n",
              "      (relu): ReLU(inplace=True)\n",
              "      (conv2): Conv2d(256, 256, kernel_size=(3, 3), stride=(1, 1), padding=(1, 1), bias=False)\n",
              "      (bn2): BatchNorm2d(256, eps=1e-05, momentum=0.1, affine=True, track_running_stats=True)\n",
              "      (downsample): Sequential(\n",
              "        (0): Conv2d(128, 256, kernel_size=(1, 1), stride=(2, 2), bias=False)\n",
              "        (1): BatchNorm2d(256, eps=1e-05, momentum=0.1, affine=True, track_running_stats=True)\n",
              "      )\n",
              "    )\n",
              "    (1): BasicBlock(\n",
              "      (conv1): Conv2d(256, 256, kernel_size=(3, 3), stride=(1, 1), padding=(1, 1), bias=False)\n",
              "      (bn1): BatchNorm2d(256, eps=1e-05, momentum=0.1, affine=True, track_running_stats=True)\n",
              "      (relu): ReLU(inplace=True)\n",
              "      (conv2): Conv2d(256, 256, kernel_size=(3, 3), stride=(1, 1), padding=(1, 1), bias=False)\n",
              "      (bn2): BatchNorm2d(256, eps=1e-05, momentum=0.1, affine=True, track_running_stats=True)\n",
              "    )\n",
              "  )\n",
              "  (layer4): Sequential(\n",
              "    (0): BasicBlock(\n",
              "      (conv1): Conv2d(256, 512, kernel_size=(3, 3), stride=(2, 2), padding=(1, 1), bias=False)\n",
              "      (bn1): BatchNorm2d(512, eps=1e-05, momentum=0.1, affine=True, track_running_stats=True)\n",
              "      (relu): ReLU(inplace=True)\n",
              "      (conv2): Conv2d(512, 512, kernel_size=(3, 3), stride=(1, 1), padding=(1, 1), bias=False)\n",
              "      (bn2): BatchNorm2d(512, eps=1e-05, momentum=0.1, affine=True, track_running_stats=True)\n",
              "      (downsample): Sequential(\n",
              "        (0): Conv2d(256, 512, kernel_size=(1, 1), stride=(2, 2), bias=False)\n",
              "        (1): BatchNorm2d(512, eps=1e-05, momentum=0.1, affine=True, track_running_stats=True)\n",
              "      )\n",
              "    )\n",
              "    (1): BasicBlock(\n",
              "      (conv1): Conv2d(512, 512, kernel_size=(3, 3), stride=(1, 1), padding=(1, 1), bias=False)\n",
              "      (bn1): BatchNorm2d(512, eps=1e-05, momentum=0.1, affine=True, track_running_stats=True)\n",
              "      (relu): ReLU(inplace=True)\n",
              "      (conv2): Conv2d(512, 512, kernel_size=(3, 3), stride=(1, 1), padding=(1, 1), bias=False)\n",
              "      (bn2): BatchNorm2d(512, eps=1e-05, momentum=0.1, affine=True, track_running_stats=True)\n",
              "    )\n",
              "  )\n",
              "  (avgpool): AdaptiveAvgPool2d(output_size=(1, 1))\n",
              "  (fc): Linear(in_features=512, out_features=1000, bias=True)\n",
              ")"
            ]
          },
          "metadata": {
            "tags": []
          },
          "execution_count": 48
        }
      ]
    },
    {
      "cell_type": "code",
      "metadata": {
        "id": "t0Ew1mowUJvh",
        "colab_type": "code",
        "colab": {
          "base_uri": "https://localhost:8080/",
          "height": 54
        },
        "outputId": "a796d9bb-b674-4d72-d580-a50f934e823b"
      },
      "source": [
        "with torch.no_grad():\n",
        "  j = 0\n",
        "  k = 0\n",
        "  label = [367, 251, 145, 9, 84, 963, 779, 292, 889, 340]\n",
        "  correct = 0\n",
        "  for batch_idx, (inputs, targets) in enumerate(test_loader):\n",
        "      #inputs, targets = inputs.cuda(), targets.cuda()\n",
        "      outputs = model_original(inputs)\n",
        "      for i in range(32):\n",
        "        if(j < 100):\n",
        "          #print(j)\n",
        "          predicted = (int(torch.argmax(outputs[i])))\n",
        "          if(j%10 == 0):\n",
        "            curr_label = label[k]\n",
        "            k = k + 1\n",
        "          if(predicted == curr_label):\n",
        "            #print(correct)\n",
        "            correct = correct + 1\n",
        "          j = j + 1\n",
        "\n",
        "  print(\"accuracy\")\n",
        "  print(correct/100)"
      ],
      "execution_count": null,
      "outputs": [
        {
          "output_type": "stream",
          "text": [
            "accuracy\n",
            "0.74\n"
          ],
          "name": "stdout"
        }
      ]
    },
    {
      "cell_type": "code",
      "metadata": {
        "id": "Kps4-aEpQ9xC",
        "colab_type": "code",
        "colab": {}
      },
      "source": [
        "#model.conv1.weight"
      ],
      "execution_count": null,
      "outputs": []
    },
    {
      "cell_type": "code",
      "metadata": {
        "id": "EgsqelkKMuN7",
        "colab_type": "code",
        "colab": {
          "base_uri": "https://localhost:8080/",
          "height": 1000
        },
        "outputId": "85af8f08-b5b7-462e-a798-1caa1ae53a8e"
      },
      "source": [
        "model.eval()"
      ],
      "execution_count": null,
      "outputs": [
        {
          "output_type": "execute_result",
          "data": {
            "text/plain": [
              "ResNet(\n",
              "  (conv1): Conv2d(3, 64, kernel_size=(7, 7), stride=(2, 2), padding=(3, 3), bias=False)\n",
              "  (bn1): BatchNorm2d(64, eps=1e-05, momentum=0.1, affine=True, track_running_stats=True)\n",
              "  (relu): ReLU(inplace=True)\n",
              "  (maxpool): MaxPool2d(kernel_size=3, stride=2, padding=1, dilation=1, ceil_mode=False)\n",
              "  (layer1): Sequential(\n",
              "    (0): BasicBlock(\n",
              "      (conv1): Conv2d(64, 64, kernel_size=(3, 3), stride=(1, 1), padding=(1, 1), bias=False)\n",
              "      (bn1): BatchNorm2d(64, eps=1e-05, momentum=0.1, affine=True, track_running_stats=True)\n",
              "      (relu): ReLU(inplace=True)\n",
              "      (conv2): Conv2d(64, 64, kernel_size=(3, 3), stride=(1, 1), padding=(1, 1), bias=False)\n",
              "      (bn2): BatchNorm2d(64, eps=1e-05, momentum=0.1, affine=True, track_running_stats=True)\n",
              "    )\n",
              "    (1): BasicBlock(\n",
              "      (conv1): Conv2d(64, 64, kernel_size=(3, 3), stride=(1, 1), padding=(1, 1), bias=False)\n",
              "      (bn1): BatchNorm2d(64, eps=1e-05, momentum=0.1, affine=True, track_running_stats=True)\n",
              "      (relu): ReLU(inplace=True)\n",
              "      (conv2): Conv2d(64, 64, kernel_size=(3, 3), stride=(1, 1), padding=(1, 1), bias=False)\n",
              "      (bn2): BatchNorm2d(64, eps=1e-05, momentum=0.1, affine=True, track_running_stats=True)\n",
              "    )\n",
              "  )\n",
              "  (layer2): Sequential(\n",
              "    (0): BasicBlock(\n",
              "      (conv1): Conv2d(64, 128, kernel_size=(3, 3), stride=(2, 2), padding=(1, 1), bias=False)\n",
              "      (bn1): BatchNorm2d(128, eps=1e-05, momentum=0.1, affine=True, track_running_stats=True)\n",
              "      (relu): ReLU(inplace=True)\n",
              "      (conv2): Conv2d(128, 128, kernel_size=(3, 3), stride=(1, 1), padding=(1, 1), bias=False)\n",
              "      (bn2): BatchNorm2d(128, eps=1e-05, momentum=0.1, affine=True, track_running_stats=True)\n",
              "      (downsample): Sequential(\n",
              "        (0): Conv2d(64, 128, kernel_size=(1, 1), stride=(2, 2), bias=False)\n",
              "        (1): BatchNorm2d(128, eps=1e-05, momentum=0.1, affine=True, track_running_stats=True)\n",
              "      )\n",
              "    )\n",
              "    (1): BasicBlock(\n",
              "      (conv1): Conv2d(128, 128, kernel_size=(3, 3), stride=(1, 1), padding=(1, 1), bias=False)\n",
              "      (bn1): BatchNorm2d(128, eps=1e-05, momentum=0.1, affine=True, track_running_stats=True)\n",
              "      (relu): ReLU(inplace=True)\n",
              "      (conv2): Conv2d(128, 128, kernel_size=(3, 3), stride=(1, 1), padding=(1, 1), bias=False)\n",
              "      (bn2): BatchNorm2d(128, eps=1e-05, momentum=0.1, affine=True, track_running_stats=True)\n",
              "    )\n",
              "  )\n",
              "  (layer3): Sequential(\n",
              "    (0): BasicBlock(\n",
              "      (conv1): Conv2d(128, 256, kernel_size=(3, 3), stride=(2, 2), padding=(1, 1), bias=False)\n",
              "      (bn1): BatchNorm2d(256, eps=1e-05, momentum=0.1, affine=True, track_running_stats=True)\n",
              "      (relu): ReLU(inplace=True)\n",
              "      (conv2): Conv2d(256, 256, kernel_size=(3, 3), stride=(1, 1), padding=(1, 1), bias=False)\n",
              "      (bn2): BatchNorm2d(256, eps=1e-05, momentum=0.1, affine=True, track_running_stats=True)\n",
              "      (downsample): Sequential(\n",
              "        (0): Conv2d(128, 256, kernel_size=(1, 1), stride=(2, 2), bias=False)\n",
              "        (1): BatchNorm2d(256, eps=1e-05, momentum=0.1, affine=True, track_running_stats=True)\n",
              "      )\n",
              "    )\n",
              "    (1): BasicBlock(\n",
              "      (conv1): Conv2d(256, 256, kernel_size=(3, 3), stride=(1, 1), padding=(1, 1), bias=False)\n",
              "      (bn1): BatchNorm2d(256, eps=1e-05, momentum=0.1, affine=True, track_running_stats=True)\n",
              "      (relu): ReLU(inplace=True)\n",
              "      (conv2): Conv2d(256, 256, kernel_size=(3, 3), stride=(1, 1), padding=(1, 1), bias=False)\n",
              "      (bn2): BatchNorm2d(256, eps=1e-05, momentum=0.1, affine=True, track_running_stats=True)\n",
              "    )\n",
              "  )\n",
              "  (layer4): Sequential(\n",
              "    (0): BasicBlock(\n",
              "      (conv1): Conv2d(256, 512, kernel_size=(3, 3), stride=(2, 2), padding=(1, 1), bias=False)\n",
              "      (bn1): BatchNorm2d(512, eps=1e-05, momentum=0.1, affine=True, track_running_stats=True)\n",
              "      (relu): ReLU(inplace=True)\n",
              "      (conv2): Conv2d(512, 512, kernel_size=(3, 3), stride=(1, 1), padding=(1, 1), bias=False)\n",
              "      (bn2): BatchNorm2d(512, eps=1e-05, momentum=0.1, affine=True, track_running_stats=True)\n",
              "      (downsample): Sequential(\n",
              "        (0): Conv2d(256, 512, kernel_size=(1, 1), stride=(2, 2), bias=False)\n",
              "        (1): BatchNorm2d(512, eps=1e-05, momentum=0.1, affine=True, track_running_stats=True)\n",
              "      )\n",
              "    )\n",
              "    (1): BasicBlock(\n",
              "      (conv1): Conv2d(512, 512, kernel_size=(3, 3), stride=(1, 1), padding=(1, 1), bias=False)\n",
              "      (bn1): BatchNorm2d(512, eps=1e-05, momentum=0.1, affine=True, track_running_stats=True)\n",
              "      (relu): ReLU(inplace=True)\n",
              "      (conv2): Conv2d(512, 512, kernel_size=(3, 3), stride=(1, 1), padding=(1, 1), bias=False)\n",
              "      (bn2): BatchNorm2d(512, eps=1e-05, momentum=0.1, affine=True, track_running_stats=True)\n",
              "    )\n",
              "  )\n",
              "  (avgpool): AdaptiveAvgPool2d(output_size=(1, 1))\n",
              "  (fc): Linear(in_features=512, out_features=1000, bias=True)\n",
              ")"
            ]
          },
          "metadata": {
            "tags": []
          },
          "execution_count": 34
        }
      ]
    },
    {
      "cell_type": "code",
      "metadata": {
        "id": "Ypm_YYVLRqsj",
        "colab_type": "code",
        "colab": {
          "base_uri": "https://localhost:8080/",
          "height": 963
        },
        "outputId": "28c67c3e-e21a-41fb-b42f-03ef603822f0"
      },
      "source": [
        "import numpy as np\n",
        "import pandas as pd\n",
        "weight_temp = model.conv1.weight\n",
        "temp = weight_temp.detach().numpy()\n",
        "print(temp.shape)\n",
        "imgs = weight_temp.detach().numpy()[:, ::-1, :, :]\n",
        "print(imgs.shape)\n",
        "x = temp.flatten()\n",
        "#print(x.shape)\n",
        "x = x.reshape(64,-1)\n",
        "print(x.shape)\n",
        "\n",
        "print(weight_temp[0])\n",
        "print(x[0])\n"
      ],
      "execution_count": null,
      "outputs": [
        {
          "output_type": "stream",
          "text": [
            "(64, 3, 7, 7)\n",
            "(64, 3, 7, 7)\n",
            "(64, 147)\n",
            "tensor([[[-0.0107, -0.0053,  0.0000,  0.0748,  0.0588,  0.0160, -0.0107],\n",
            "         [ 0.0107,  0.0107, -0.1123, -0.2780, -0.2726, -0.1283,  0.0053],\n",
            "         [-0.0053,  0.0588,  0.2940,  0.5880,  0.5185,  0.2566,  0.0641],\n",
            "         [ 0.0321, -0.0695, -0.2993, -0.4383, -0.2726,  0.0000,  0.0588],\n",
            "         [-0.0267,  0.0160,  0.0748, -0.0535, -0.3314, -0.4223, -0.2566],\n",
            "         [ 0.0321,  0.0428,  0.0641,  0.2405,  0.4116,  0.3956,  0.1657],\n",
            "         [-0.0160, -0.0053, -0.0267, -0.0641, -0.1497, -0.0802, -0.0053]],\n",
            "\n",
            "        [[-0.0107, -0.0267, -0.0321,  0.0374,  0.0321,  0.0000, -0.0267],\n",
            "         [ 0.0481,  0.0321, -0.1069, -0.3100, -0.3100, -0.1604,  0.0000],\n",
            "         [ 0.0000,  0.0962,  0.4009,  0.7697,  0.7056,  0.3688,  0.1229],\n",
            "         [-0.0053, -0.1283, -0.4223, -0.5933, -0.3849, -0.0428,  0.0641],\n",
            "         [-0.0535, -0.0053,  0.0267, -0.1497, -0.4597, -0.5719, -0.3635],\n",
            "         [ 0.0321,  0.0535,  0.1016,  0.3207,  0.5452,  0.4811,  0.1978],\n",
            "         [ 0.0053,  0.0053, -0.0160, -0.0695, -0.1497, -0.0748,  0.0000]],\n",
            "\n",
            "        [[ 0.0000, -0.0107,  0.0214,  0.0909,  0.0909,  0.0321, -0.0214],\n",
            "         [ 0.0160, -0.0160, -0.1283, -0.2940, -0.2512, -0.1283, -0.0267],\n",
            "         [ 0.0107,  0.0481,  0.2192,  0.4276,  0.3474,  0.1069,  0.0160],\n",
            "         [ 0.0267, -0.0267, -0.1978, -0.2673, -0.1069,  0.0802,  0.1229],\n",
            "         [-0.0267,  0.0160,  0.0962,  0.0588, -0.1176, -0.2566, -0.1550],\n",
            "         [ 0.0214,  0.0000, -0.0374,  0.0588,  0.2405,  0.2459,  0.1176],\n",
            "         [ 0.0000,  0.0000, -0.0107, -0.0535, -0.1497, -0.1176, -0.0374]]],\n",
            "       grad_fn=<SelectBackward>)\n",
            "[-0.01069055 -0.00534527  0.          0.07483384  0.05879802  0.01603582\n",
            " -0.01069055  0.01069055  0.01069055 -0.11225077 -0.27795428 -0.272609\n",
            " -0.12828659  0.00534527 -0.00534527  0.05879802  0.2939901   0.5879802\n",
            "  0.5184916   0.25657317  0.06414329  0.03207165 -0.06948857 -0.29933536\n",
            " -0.4383125  -0.272609    0.          0.05879802 -0.02672637  0.01603582\n",
            "  0.07483384 -0.05345275 -0.331407   -0.42227668 -0.25657317  0.03207165\n",
            "  0.0427622   0.06414329  0.24053735  0.41158614  0.3955503   0.1657035\n",
            " -0.01603582 -0.00534527 -0.02672637 -0.06414329 -0.14966768 -0.08017912\n",
            " -0.00534527 -0.01069055 -0.02672637 -0.03207165  0.03741692  0.03207165\n",
            "  0.         -0.02672637  0.04810747  0.03207165 -0.10690549 -0.31002593\n",
            " -0.31002593 -0.16035824  0.          0.          0.09621494  0.4008956\n",
            "  0.76971954  0.70557624  0.36882395  0.12294132 -0.00534527 -0.12828659\n",
            " -0.42227668 -0.5933255  -0.38485977 -0.0427622   0.06414329 -0.05345275\n",
            " -0.00534527  0.02672637 -0.14966768 -0.4596936  -0.57194436 -0.36347866\n",
            "  0.03207165  0.05345275  0.10156021  0.32071647  0.545218    0.4810747\n",
            "  0.19777516  0.00534527  0.00534527 -0.01603582 -0.06948857 -0.14966768\n",
            " -0.07483384  0.          0.         -0.01069055  0.0213811   0.09086967\n",
            "  0.09086967  0.03207165 -0.0213811   0.01603582 -0.01603582 -0.12828659\n",
            " -0.2939901  -0.25122792 -0.12828659 -0.02672637  0.01069055  0.04810747\n",
            "  0.21915625  0.42762196  0.34744284  0.10690549  0.01603582  0.02672637\n",
            " -0.02672637 -0.19777516 -0.2672637  -0.10690549  0.08017912  0.12294132\n",
            " -0.02672637  0.01603582  0.09621494  0.05879802 -0.11759604 -0.25657317\n",
            " -0.15501297  0.0213811   0.         -0.03741692  0.05879802  0.24053735\n",
            "  0.24588263  0.11759604  0.          0.         -0.01069055 -0.05345275\n",
            " -0.14966768 -0.11759604 -0.03741692]\n"
          ],
          "name": "stdout"
        }
      ]
    },
    {
      "cell_type": "code",
      "metadata": {
        "id": "DBSqSXawggso",
        "colab_type": "code",
        "colab": {
          "base_uri": "https://localhost:8080/",
          "height": 283
        },
        "outputId": "9e98b76a-0bde-42d8-ce3f-1e3c73c8b7e5"
      },
      "source": [
        "import numpy as np\n",
        "import pandas as pd\n",
        "weight_temp = model.conv1.weight\n",
        "temp = weight_temp.detach().numpy()\n",
        "#print(temp)\n",
        "imgs = weight_temp.detach().numpy()[:, ::-1, :, :]\n",
        "\n",
        "x = temp.flatten()\n",
        "x = x.reshape(-1, 64)\n",
        "#print(x)\n",
        "#print(np.shape(x))\n",
        "df = pd.DataFrame(x)\n",
        "df.plot.box(grid = True)"
      ],
      "execution_count": 38,
      "outputs": [
        {
          "output_type": "execute_result",
          "data": {
            "text/plain": [
              "<matplotlib.axes._subplots.AxesSubplot at 0x7f159bfc7828>"
            ]
          },
          "metadata": {
            "tags": []
          },
          "execution_count": 38
        },
        {
          "output_type": "display_data",
          "data": {
            "image/png": "[encoded data removed]",
            "text/plain": [
              "<Figure size 432x288 with 1 Axes>"
            ]
          },
          "metadata": {
            "tags": [],
            "needs_background": "light"
          }
        }
      ]
    },
    {
      "cell_type": "code",
      "metadata": {
        "id": "c2376xSXRI8L",
        "colab_type": "code",
        "colab": {
          "base_uri": "https://localhost:8080/",
          "height": 265
        },
        "outputId": "0956312a-6e31-426f-b6e1-c85567d50b44"
      },
      "source": [
        "import matplotlib.pyplot as plt\n",
        "plot2 = np.array(x[0])\n",
        "plotx = np.array(x[2])\n",
        "abc = plt.hist(plot2, bins = 100)\n",
        "abcx = plt.hist(plotx, bins = 100)\n",
        "plt.show()"
      ],
      "execution_count": 39,
      "outputs": [
        {
          "output_type": "display_data",
          "data": {
            "image/png": "[encoded data removed]",
            "text/plain": [
              "<Figure size 432x288 with 1 Axes>"
            ]
          },
          "metadata": {
            "tags": [],
            "needs_background": "light"
          }
        }
      ]
    },
    {
      "cell_type": "code",
      "metadata": {
        "id": "tB4poHv0YOV_",
        "colab_type": "code",
        "colab": {
          "base_uri": "https://localhost:8080/",
          "height": 803
        },
        "outputId": "dc56b7fd-45be-4f61-b363-fef474ba0408"
      },
      "source": [
        "fig, (ax1, ax2, ax3) = plt.subplots(3)\n",
        "fig.suptitle('Axes values are scaled individually by default')\n",
        "ax1.hist(plot2, bins = 100)\n",
        "ax2.hist(plotx, bins = 100)\n",
        "ax3.hist(plotx, bins = 100)"
      ],
      "execution_count": 42,
      "outputs": [
        {
          "output_type": "execute_result",
          "data": {
            "text/plain": [
              "(array([1., 0., 0., 0., 0., 0., 0., 0., 0., 0., 0., 0., 0., 0., 0., 0., 0.,\n",
              "        0., 0., 0., 2., 1., 0., 1., 1., 0., 1., 3., 1., 0., 0., 0., 1., 0.,\n",
              "        0., 1., 0., 1., 0., 1., 2., 2., 0., 3., 0., 3., 1., 2., 2., 2., 3.,\n",
              "        5., 0., 0., 0., 4., 1., 0., 1., 0., 1., 3., 2., 1., 0., 0., 0., 2.,\n",
              "        0., 0., 1., 0., 0., 1., 2., 1., 0., 0., 0., 1., 1., 0., 0., 0., 0.,\n",
              "        0., 0., 0., 0., 0., 0., 0., 0., 0., 0., 0., 0., 0., 1., 1.]),\n",
              " array([-0.25657317, -0.25154862, -0.24652405, -0.2414995 , -0.23647493,\n",
              "        -0.23145038, -0.22642583, -0.22140126, -0.2163767 , -0.21135215,\n",
              "        -0.20632759, -0.20130304, -0.19627847, -0.19125392, -0.18622936,\n",
              "        -0.1812048 , -0.17618024, -0.17115569, -0.16613112, -0.16110657,\n",
              "        -0.156082  , -0.15105745, -0.1460329 , -0.14100833, -0.13598378,\n",
              "        -0.13095921, -0.12593466, -0.1209101 , -0.11588555, -0.11086099,\n",
              "        -0.10583643, -0.10081187, -0.09578732, -0.09076276, -0.0857382 ,\n",
              "        -0.08071364, -0.07568908, -0.07066453, -0.06563997, -0.06061541,\n",
              "        -0.05559085, -0.05056629, -0.04554173, -0.04051718, -0.03549262,\n",
              "        -0.03046806, -0.0254435 , -0.02041894, -0.01539439, -0.01036983,\n",
              "        -0.00534527, -0.00032071,  0.00470385,  0.0097284 ,  0.01475296,\n",
              "         0.01977752,  0.02480208,  0.02982664,  0.03485119,  0.03987575,\n",
              "         0.04490031,  0.04992487,  0.05494943,  0.05997398,  0.06499854,\n",
              "         0.0700231 ,  0.07504766,  0.08007222,  0.08509678,  0.09012133,\n",
              "         0.09514589,  0.10017045,  0.10519501,  0.11021956,  0.11524412,\n",
              "         0.12026868,  0.12529324,  0.13031779,  0.13534236,  0.14036691,\n",
              "         0.14539146,  0.15041603,  0.15544058,  0.16046515,  0.1654897 ,\n",
              "         0.17051426,  0.17553882,  0.18056338,  0.18558793,  0.1906125 ,\n",
              "         0.19563705,  0.20066161,  0.20568617,  0.21071072,  0.21573529,\n",
              "         0.22075984,  0.22578439,  0.23080896,  0.23583351,  0.24085808,\n",
              "         0.24588263], dtype=float32),\n",
              " <a list of 100 Patch objects>)"
            ]
          },
          "metadata": {
            "tags": []
          },
          "execution_count": 42
        },
        {
          "output_type": "display_data",
          "data": {
            "image/png": "[encoded data removed]",
            "text/plain": [
              "<Figure size 432x288 with 3 Axes>"
            ]
          },
          "metadata": {
            "tags": [],
            "needs_background": "light"
          }
        }
      ]
    },
    {
      "cell_type": "code",
      "metadata": {
        "id": "CT7eIAanBW1-",
        "colab_type": "code",
        "colab": {
          "base_uri": "https://localhost:8080/",
          "height": 385
        },
        "outputId": "76992ba1-ea49-4f67-a35a-67e872f32bcd"
      },
      "source": [
        "import matplotlib.pyplot as plt\n",
        "import numpy as np\n",
        "\n",
        "# Some example data to display\n",
        "x = np.linspace(0, 2 * np.pi, 400)\n",
        "y = np.sin(x ** 2)\n",
        "\n",
        "fig, (ax1, ax2) = plt.subplots(2)\n",
        "fig.suptitle('Axes values are scaled individually by default')\n",
        "ax1.hist(x)\n",
        "ax2.hist(x)"
      ],
      "execution_count": 37,
      "outputs": [
        {
          "output_type": "execute_result",
          "data": {
            "text/plain": [
              "(array([40., 40., 40., 40., 40., 40., 40., 40., 40., 40.]),\n",
              " array([0.        , 0.62831853, 1.25663706, 1.88495559, 2.51327412,\n",
              "        3.14159265, 3.76991118, 4.39822972, 5.02654825, 5.65486678,\n",
              "        6.28318531]),\n",
              " <a list of 10 Patch objects>)"
            ]
          },
          "metadata": {
            "tags": []
          },
          "execution_count": 37
        },
        {
          "output_type": "display_data",
          "data": {
            "image/png": "[encoded data removed]",
            "text/plain": [
              "<Figure size 432x288 with 2 Axes>"
            ]
          },
          "metadata": {
            "tags": [],
            "needs_background": "light"
          }
        }
      ]
    },
    {
      "cell_type": "code",
      "metadata": {
        "id": "hXBPYy7bL8xP",
        "colab_type": "code",
        "colab": {}
      },
      "source": [
        ""
      ],
      "execution_count": null,
      "outputs": []
    }
  ]
}